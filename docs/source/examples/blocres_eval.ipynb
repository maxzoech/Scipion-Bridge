{
 "cells": [
  {
   "cell_type": "markdown",
   "id": "c9d7f650",
   "metadata": {},
   "source": [
    "# Compute BlocRes Evaluation"
   ]
  },
  {
   "cell_type": "code",
   "execution_count": 1,
   "id": "60afa068-1149-4c02-bfd0-40d92c92f7f7",
   "metadata": {},
   "outputs": [],
   "source": [
    "import os\n",
    "from pathlib import Path\n",
    "\n",
    "import scipion_bridge\n",
    "import scipion_bridge.ffi.scipion as scipion\n",
    "# from scipion_bridge.ffi.blocres import blocres\n",
    "# from scipion_bridge.proxy import OutputInfo\n",
    "\n",
    "import shutil\n",
    "\n",
    "from utils import download as D\n",
    "scipion_bridge.utils.environment.configure_default_env()"
   ]
  },
  {
   "cell_type": "markdown",
   "id": "c922cc36-67a7-4da3-a6a1-15b18af47f2b",
   "metadata": {},
   "source": [
    "### Download Data"
   ]
  },
  {
   "cell_type": "code",
   "execution_count": 2,
   "id": "5057b89e-44f4-462b-a5e3-b2aac5d65f52",
   "metadata": {},
   "outputs": [],
   "source": [
    "DOWNLOAD_PATH = Path(\"data/downloaded\")\n",
    "EMDB_ENTRY = 41510"
   ]
  },
  {
   "cell_type": "code",
   "execution_count": 3,
   "id": "0ce8ff5a-10c8-4d51-a0eb-5fad145dd945",
   "metadata": {},
   "outputs": [
    {
     "data": {
      "text/plain": [
       "EMDBMetadata(pdb_id='7l70', resolution=3.1, sampling=0.835, size=256, org_x=0, org_y=0, org_z=0)"
      ]
     },
     "execution_count": 3,
     "metadata": {},
     "output_type": "execute_result"
    }
   ],
   "source": [
    "metadata = D.download_emdb_metadata(entry_id=EMDB_ENTRY)\n",
    "\n",
    "os.makedirs(DOWNLOAD_PATH, exist_ok=True)\n",
    "\n",
    "emdb_map = D.download_emdb_map(EMDB_ENTRY, DOWNLOAD_PATH)\n",
    "map_1, map_2 = D.download_halfmaps(EMDB_ENTRY, DOWNLOAD_PATH)\n",
    "pdb_model = D.download_pdb_model(\"8tqo\", DOWNLOAD_PATH) # metadata.pdb_id\n",
    "\n",
    "metadata"
   ]
  },
  {
   "cell_type": "markdown",
   "id": "61ce49c4-7b51-4b12-b05a-ef571b366143",
   "metadata": {},
   "source": [
    "### Create Volume from PDB"
   ]
  },
  {
   "cell_type": "code",
   "execution_count": 4,
   "id": "4fa68922-f07b-429f-8d67-545357fad81f",
   "metadata": {},
   "outputs": [
    {
     "name": "stdout",
     "output_type": "stream",
     "text": [
      "{'inputs': False, 'outputs': True, 'center_pdb': False, 'sampling': False, 'size': False}\n",
      "[XMIPP] scipion run xmipp_volume_from_pdb -i data/downloaded/pdb8tqo.ent -o /tmp/tmpngp7wmeu --centerPDB -v 0 --sampling 0.835 --size 256\n",
      "Xmipp command detected\n",
      "Scipion v3.7.1 - Eugenius\n"
     ]
    },
    {
     "data": {
      "text/plain": [
       "<scipion_bridge.ffi.scipion.SpiderFile at 0x7cdbb7c76580>"
      ]
     },
     "execution_count": 4,
     "metadata": {},
     "output_type": "execute_result"
    }
   ],
   "source": [
    "volume = scipion.xmipp_volume_from_pdb(\n",
    "    pdb_model,\n",
    "    center_pdb=\"-v 0\",\n",
    "    sampling=metadata.sampling,\n",
    "    size=metadata.size,\n",
    ").typed(astype=scipion.SpiderFile)\n",
    "\n",
    "#.reassign(\"vol\")\n",
    "\n",
    "# scipion.xmipp_volume_align(\n",
    "#     embdb_map=str(emdb_map),\n",
    "#     volume=volume,\n",
    "#     local=True,\n",
    "# )\n",
    "\n",
    "volume"
   ]
  },
  {
   "cell_type": "code",
   "execution_count": 5,
   "id": "734da911-1f17-41a1-a501-141c1082352a",
   "metadata": {},
   "outputs": [
    {
     "data": {
      "text/plain": [
       "67109888"
      ]
     },
     "execution_count": 5,
     "metadata": {},
     "output_type": "execute_result"
    }
   ],
   "source": [
    "os.path.exists(volume.path)\n",
    "os.path.getsize(volume.path)"
   ]
  },
  {
   "cell_type": "code",
   "execution_count": 6,
   "id": "917b4119-f495-4ea9-aa70-16f291abd30e",
   "metadata": {},
   "outputs": [
    {
     "name": "stdout",
     "output_type": "stream",
     "text": [
      "/tmp/tmpi0j_6yop.vol\n"
     ]
    }
   ],
   "source": [
    "print(volume.path)"
   ]
  },
  {
   "cell_type": "code",
   "execution_count": 5,
   "id": "81819ab4-3ef1-4c5a-b1e6-7c3d51d252d9",
   "metadata": {},
   "outputs": [],
   "source": [
    "volume.file_ext()"
   ]
  },
  {
   "cell_type": "markdown",
   "id": "5e3614f1-ead8-4149-bb65-f7f47d9cdf9b",
   "metadata": {},
   "source": [
    "### Mask from Volume"
   ]
  },
  {
   "cell_type": "code",
   "execution_count": 5,
   "id": "9f69f91b-8f60-4e7e-853a-4c5355ffb949",
   "metadata": {},
   "outputs": [
    {
     "name": "stdout",
     "output_type": "stream",
     "text": [
      "[XMIPP] scipion run xmipp_transform_threshold -i /tmp/tmpih2qynru.vol -o /tmp/tmppksnirse.vol --select below 0.02 --substitute binarize\n",
      "Input File: /tmp/tmpih2qynru.vol\n",
      "Output File: /tmp/tmppksnirse.vol\n",
      "Xmipp command detected\n",
      "Scipion v3.7.1 - Eugenius\n",
      "[XMIPP] scipion run xmipp_transform_morphology -i /tmp/tmppksnirse.vol -o /tmp/tmpla1dvahv.vol --binaryOperation dilation --size 2\n",
      "Input File: /tmp/tmppksnirse.vol\n",
      "Output File: /tmp/tmpla1dvahv.vol\n",
      "Initially the image has 487083 pixels set to 1\n",
      "Finally the image has 646612 pixels set to 1\n",
      "Xmipp command detected\n",
      "Scipion v3.7.1 - Eugenius\n"
     ]
    },
    {
     "data": {
      "application/vnd.jupyter.widget-view+json": {
       "model_id": "1282ccb314174734a791e114342fea38",
       "version_major": 2,
       "version_minor": 0
      },
      "text/plain": [
       "Output()"
      ]
     },
     "metadata": {},
     "output_type": "display_data"
    }
   ],
   "source": [
    "mask = scipion.xmipp_transform_threshold(\n",
    "    volume, select=\"below 0.02\", substitute=\"binarize\"\n",
    ")\n",
    "mask = scipion.xmipp_transform_morphology(mask, binary_operation=\"dilation\", size=2)\n",
    "\n",
    "mask"
   ]
  },
  {
   "cell_type": "code",
   "execution_count": 6,
   "id": "fa8327a2-cb3c-4d52-a71d-5be666c520f7",
   "metadata": {},
   "outputs": [
    {
     "name": "stdout",
     "output_type": "stream",
     "text": [
      "[XMIPP] scipion run xmipp_image_convert -i /tmp/tmpih2qynru.vol -o /tmp/tmprqtfitwb.mrc -t vol\n",
      "Input File: /tmp/tmpih2qynru.vol\n",
      "Output File: /tmp/tmprqtfitwb.mrc\n",
      "Xmipp command detected\n",
      "Scipion v3.7.1 - Eugenius\n",
      "[XMIPP] scipion run xmipp_image_header -i /tmp/tmprqtfitwb.mrc -s 0.835\n",
      "Input File: /tmp/tmprqtfitwb.mrc\n",
      "New sampling rate (Angstrom) = 0.835\n",
      "Xmipp command detected\n",
      "Scipion v3.7.1 - Eugenius\n",
      "[XMIPP] scipion run xmipp_image_convert -i /tmp/tmpla1dvahv.vol -o /tmp/tmpjvct5xl5.mrc -t vol\n",
      "Input File: /tmp/tmpla1dvahv.vol\n",
      "Output File: /tmp/tmpjvct5xl5.mrc\n",
      "Xmipp command detected\n",
      "Scipion v3.7.1 - Eugenius\n",
      "[XMIPP] scipion run xmipp_image_header -i /tmp/tmpjvct5xl5.mrc -s 0.835\n",
      "Input File: /tmp/tmpjvct5xl5.mrc\n",
      "New sampling rate (Angstrom) = 0.835\n",
      "Xmipp command detected\n",
      "Scipion v3.7.1 - Eugenius\n"
     ]
    }
   ],
   "source": [
    "def apply_sampling(data, sampling):\n",
    "    data = scipion.xmipp_image_convert(data)\n",
    "    scipion.xmipp_image_header(data, sampling=sampling)\n",
    "\n",
    "    return data\n",
    "\n",
    "volume = apply_sampling(volume, metadata.sampling)\n",
    "mask = apply_sampling(mask, metadata.sampling)"
   ]
  },
  {
   "cell_type": "markdown",
   "id": "cafd110b-d6aa-408d-854c-e82ee9e0904f",
   "metadata": {},
   "source": [
    "### Compute BlocRes"
   ]
  },
  {
   "cell_type": "code",
   "execution_count": 7,
   "id": "50dfc6e4-2dd2-4953-a545-b5891aca08ee",
   "metadata": {},
   "outputs": [
    {
     "name": "stdout",
     "output_type": "stream",
     "text": [
      "[BlocRes] /home/max/scipion3/software/em/bsoft/bin/blocres  -Mask /tmp/tmpjvct5xl5.mrc -sampling 0.835 0.835 0.835 -box 18 -cutoff 0.5 -nofill -smooth -pad 1 -step 1 -maxresolution 0.5 -verbose 1 data/downloaded/emd_41510_half_map_1.map data/downloaded/emd_41510_half_map_2.map /tmp/tmpunxxt95c.map\n",
      "# /home/max/scipion3/software/em/bsoft/bin/blocres -Mask /tmp/tmpjvct5xl5.mrc -sampling 0.835 0.835 0.835 -box 18 -cutoff 0.5 -nofill -smooth -pad 1 -step 1 -maxresolution 0.5 -verbose 1 data/downloaded/emd_41510_half_map_1.map data/downloaded/emd_41510_half_map_2.map /tmp/tmpunxxt95c.map \n",
      "# Wed Jul 16 13:15:13 2025\n",
      "\n",
      "\n",
      "Calculating local resolution:\n",
      "Mask:                           /tmp/tmpjvct5xl5.mrc (-1)\n",
      "Kernel size:                    18\n",
      "Step size:                      1\n",
      "Edge size:                      9\t9\t9\n",
      "Padding size:                   36\n",
      "Smoothing/tapering:             2\n",
      "Cutoff(s):                      0.500\n",
      "\n",
      "Boxes to calculate:             646612\n",
      "\n",
      "Boxes calculated:               646612\n",
      "\n"
     ]
    }
   ],
   "source": [
    "blocres_half = blocres(\n",
    "    str(map_1),\n",
    "    str(map_2),\n",
    "    mask=mask,\n",
    "    sampling=f\"{metadata.sampling} {metadata.sampling} {metadata.sampling}\",\n",
    "    box=int(metadata.resolution * 6),\n",
    "    cutoff=0.5,\n",
    "    step=1,\n",
    "    verbose=1,\n",
    ")"
   ]
  },
  {
   "cell_type": "code",
   "execution_count": 8,
   "id": "cf7c582a-5ff0-4de0-b4fc-e4f308277cf6",
   "metadata": {},
   "outputs": [
    {
     "name": "stdout",
     "output_type": "stream",
     "text": [
      "[XMIPP] scipion run xmipp_pdb_label_from_volume -o /tmp/tmp7efz7quw.atom.pdb --pdb data/downloaded/pdb8tqo.ent --vol /tmp/tmpcwzph5sb.map --mask /tmp/tmpcub3ywqh.mrc --sampling 0.835 --origin 0.000000 0.000000 0.000000\n",
      "PDB file:           data/downloaded/pdb8tqo.ent\n",
      "Output:       /tmp/tmp7efz7quw.atom.pdb\n",
      "Sampling rate:        0.835\n",
      "Origin:               0.000000 0.000000 0.000000 \n",
      "Radius:               0.8\n",
      "mean value: = 3.2293\n",
      "absolute mean value: = 3.2293\n",
      "Xmipp command detected\n",
      "Scipion v3.7.1 - Eugenius\n"
     ]
    },
    {
     "data": {
      "text/plain": [
       "'data/blocres_result_41510.pdb'"
      ]
     },
     "execution_count": 8,
     "metadata": {},
     "output_type": "execute_result"
    }
   ],
   "source": [
    "atomic_model = scipion.xmipp_pdb_label_from_volume(\n",
    "    pdb=str(pdb_model),\n",
    "    volume=blocres_half,\n",
    "    mask=mask,\n",
    "    sampling=metadata.sampling,\n",
    "    origin=\"%f %f %f\" % (metadata.org_x, metadata.org_y, metadata.org_z),\n",
    ")\n",
    "\n",
    "shutil.copy(atomic_model.path, f\"data/blocres_result_{EMDB_ENTRY}.pdb\")"
   ]
  },
  {
   "cell_type": "code",
   "execution_count": null,
   "id": "ba5fd182-4657-4d13-a844-6b5280eb8102",
   "metadata": {},
   "outputs": [],
   "source": []
  }
 ],
 "metadata": {
  "kernelspec": {
   "display_name": "Python 3 (ipykernel)",
   "language": "python",
   "name": "python3"
  },
  "language_info": {
   "codemirror_mode": {
    "name": "ipython",
    "version": 3
   },
   "file_extension": ".py",
   "mimetype": "text/x-python",
   "name": "python",
   "nbconvert_exporter": "python",
   "pygments_lexer": "ipython3",
   "version": "3.8.20"
  }
 },
 "nbformat": 4,
 "nbformat_minor": 5
}
