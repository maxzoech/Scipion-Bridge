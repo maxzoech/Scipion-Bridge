{
 "cells": [
  {
   "cell_type": "markdown",
   "id": "c9d7f650",
   "metadata": {},
   "source": [
    "# Compute BlocRes Evaluation"
   ]
  },
  {
   "cell_type": "code",
   "execution_count": 1,
   "id": "60afa068-1149-4c02-bfd0-40d92c92f7f7",
   "metadata": {},
   "outputs": [],
   "source": [
    "import os\n",
    "from pathlib import Path\n",
    "\n",
    "import scipion_bridge\n",
    "import scipion_bridge.ffi.scipion as scipion\n",
    "# from scipion_bridge.ffi.blocres import blocres\n",
    "# from scipion_bridge.proxy import OutputInfo\n",
    "\n",
    "import shutil\n",
    "\n",
    "from utils import download as D\n",
    "scipion_bridge.utils.environment.configure_default_env()\n",
    "\n",
    "import matplotlib.pyplot as plt"
   ]
  },
  {
   "cell_type": "markdown",
   "id": "c922cc36-67a7-4da3-a6a1-15b18af47f2b",
   "metadata": {},
   "source": [
    "### Download Data"
   ]
  },
  {
   "cell_type": "code",
   "execution_count": 2,
   "id": "5057b89e-44f4-462b-a5e3-b2aac5d65f52",
   "metadata": {},
   "outputs": [],
   "source": [
    "DOWNLOAD_PATH = Path(\"data/downloaded\")\n",
    "EMDB_ENTRY = 41510"
   ]
  },
  {
   "cell_type": "code",
   "execution_count": 3,
   "id": "0ce8ff5a-10c8-4d51-a0eb-5fad145dd945",
   "metadata": {},
   "outputs": [
    {
     "data": {
      "text/plain": [
       "EMDBMetadata(pdb_id='7l70', resolution=3.1, sampling=0.835, size=256, org_x=0, org_y=0, org_z=0)"
      ]
     },
     "execution_count": 3,
     "metadata": {},
     "output_type": "execute_result"
    }
   ],
   "source": [
    "metadata = D.download_emdb_metadata(entry_id=EMDB_ENTRY)\n",
    "\n",
    "os.makedirs(DOWNLOAD_PATH, exist_ok=True)\n",
    "\n",
    "emdb_map = D.download_emdb_map(EMDB_ENTRY, DOWNLOAD_PATH)\n",
    "map_1, map_2 = D.download_halfmaps(EMDB_ENTRY, DOWNLOAD_PATH)\n",
    "pdb_model = D.download_pdb_model(\"8tqo\", DOWNLOAD_PATH) # metadata.pdb_id\n",
    "\n",
    "metadata"
   ]
  },
  {
   "cell_type": "markdown",
   "id": "61ce49c4-7b51-4b12-b05a-ef571b366143",
   "metadata": {},
   "source": [
    "### Create Volume from PDB"
   ]
  },
  {
   "cell_type": "code",
   "execution_count": 6,
   "id": "4fa68922-f07b-429f-8d67-545357fad81f",
   "metadata": {},
   "outputs": [
    {
     "name": "stdout",
     "output_type": "stream",
     "text": [
      "[XMIPP] scipion run xmipp_volume_from_pdb -i data/downloaded/pdb8tqo.ent -o /tmp/tmp03r3o4ac --centerPDB -v 0 --sampling 0.835 --size 256\n",
      "Xmipp command detected\n",
      "Scipion v3.7.1 - Eugenius\n",
      "[XMIPP] scipion run xmipp_volume_align --i1 data/downloaded/emd_41510.map --i2 /tmp/tmp03r3o4ac.vol --local --apply /tmp/tmp8t6w7f08.vol\n",
      "1 (1,0,0,0,0,1,0,0,0)--->-0.349795\n",
      "   (1,0,***0.709587,0,0,1,0,0,0)--->-0.354899\n",
      "   (1,0,0.709587,***0.889898,0,1,0,0,0)--->-0.359015\n",
      "   (1,0,0.709587,0.889898,***-2.02647,1,0,0,0)--->-0.364126\n",
      "   (1,0,0.709587,0.889898,-2.02647,***1.0526,0,0,0)--->-0.372631\n",
      "   (1,0,0.709587,0.889898,-2.02647,1.0526,***-4.86482,0,0)--->-0.388258\n",
      "   (1,0,0.709587,0.889898,-2.02647,1.0526,-4.86482,***3.64532,0)--->-0.465488\n",
      "   (1,0,0.709587,0.889898,-2.02647,1.0526,-4.86482,3.64532,***2.76693)--->-0.558715\n",
      "2 (1,0,0.709587,0.889898,-2.02647,1.0526,-4.86482,3.64532,2.76693)--->-0.558715\n",
      "   (1,0,***2.07012,0.889898,-2.02647,1.0526,-4.86482,3.64532,2.76693)--->-0.576119\n",
      "   (1,0,2.07012,***0.261686,-2.02647,1.0526,-4.86482,3.64532,2.76693)--->-0.579633\n",
      "   (1,0,2.07012,0.261686,***-2.07067,1.0526,-4.86482,3.64532,2.76693)--->-0.579657\n",
      "   (1,0,2.07012,0.261686,-2.07067,***1.00105,-4.86482,3.64532,2.76693)--->-0.723017\n",
      "   (1,0,2.07012,0.261686,-2.07067,1.00105,***-4.89737,3.64532,2.76693)--->-0.723091\n",
      "   (1,0,2.07012,0.261686,-2.07067,1.00105,-4.89737,***3.76995,2.76693)--->-0.723845\n",
      "   (1,0,2.07012,0.261686,-2.07067,1.00105,-4.89737,3.76995,***2.72043)--->-0.723931\n",
      "3 (1,0,2.07012,0.261686,-2.07067,1.00105,-4.89737,3.76995,2.72043)--->-0.723931\n",
      "   (1,0,***2.0461,0.261686,-2.07067,1.00105,-4.89737,3.76995,2.72043)--->-0.723942\n",
      "   (1,0,2.0461,***0.294048,-2.07067,1.00105,-4.89737,3.76995,2.72043)--->-0.72397\n",
      "   (1,0,2.0461,0.294048,***-2.06749,1.00105,-4.89737,3.76995,2.72043)--->-0.72397\n",
      "   (1,0,2.0461,0.294048,-2.06749,***1.00104,-4.89737,3.76995,2.72043)--->-0.72397\n",
      "   (1,0,2.0461,0.294048,-2.06749,1.00104,***-4.88941,3.76995,2.72043)--->-0.723976\n",
      "   (1,0,2.0461,0.294048,-2.06749,1.00104,-4.88941,***3.77281,2.72043)--->-0.723977\n",
      "   (1,0,2.0461,0.294048,-2.06749,1.00104,-4.88941,3.77281,***2.72281)--->-0.723977\n",
      "The best correlation is for\n",
      "Scale                  : 1.00104\n",
      "Translation (X,Y,Z)    : 2.72281 3.77281 -4.88941\n",
      "Rotation (rot,tilt,psi): 2.0461 0.294048 -2.06749\n",
      "Best grey scale       : 1\n",
      "Best grey shift       : 0\n",
      "Fitness value         : -0.723977\n",
      "xmipp_transform_geometry will require the following values\n",
      "   Angles: 2.0461 0.294048 -2.06749\n",
      "   Shifts: 2.74644 3.77473 -4.87469\n",
      "Xmipp command detected\n",
      "Scipion v3.7.1 - Eugenius\n"
     ]
    },
    {
     "data": {
      "text/plain": [
       "<scipion_bridge.ffi.scipion.SpiderFile at 0x70f85edc2af0>"
      ]
     },
     "execution_count": 6,
     "metadata": {},
     "output_type": "execute_result"
    }
   ],
   "source": [
    "volume = scipion.xmipp_volume_from_pdb(\n",
    "    pdb_model,\n",
    "    center_pdb=\"-v 0\",\n",
    "    sampling=metadata.sampling,\n",
    "    size=metadata.size,\n",
    ").typed(astype=scipion.SpiderFile)\n",
    "\n",
    "volume = scipion.xmipp_volume_align(\n",
    "    embdb_map=emdb_map,\n",
    "    volume=volume,\n",
    "    local=True,\n",
    ")\n",
    "\n",
    "volume"
   ]
  },
  {
   "cell_type": "code",
   "execution_count": 5,
   "id": "734da911-1f17-41a1-a501-141c1082352a",
   "metadata": {},
   "outputs": [
    {
     "data": {
      "text/plain": [
       "67109888"
      ]
     },
     "execution_count": 5,
     "metadata": {},
     "output_type": "execute_result"
    }
   ],
   "source": [
    "os.path.exists(volume.path)\n",
    "os.path.getsize(volume.path)"
   ]
  },
  {
   "cell_type": "code",
   "execution_count": 7,
   "id": "5cb07e3f-3223-45fa-b6f9-35f97cccbf19",
   "metadata": {},
   "outputs": [
    {
     "name": "stderr",
     "output_type": "stream",
     "text": [
      "<__array_function__ internals>:200: RuntimeWarning: Converting input from bool to <class 'numpy.uint8'> for compatibility.\n"
     ]
    },
    {
     "ename": "TypeError",
     "evalue": "numpy boolean subtract, the `-` operator, is not supported, use the bitwise_xor, the `^` operator, or the logical_xor function instead.",
     "output_type": "error",
     "traceback": [
      "\u001b[0;31m---------------------------------------------------------------------------\u001b[0m",
      "\u001b[0;31mKeyError\u001b[0m                                  Traceback (most recent call last)",
      "File \u001b[0;32m~/miniconda3/envs/scipion3/lib/python3.8/site-packages/numpy/lib/histograms.py:351\u001b[0m, in \u001b[0;36m_unsigned_subtract\u001b[0;34m(a, b)\u001b[0m\n\u001b[1;32m    350\u001b[0m \u001b[38;5;28;01mtry\u001b[39;00m:\n\u001b[0;32m--> 351\u001b[0m     dt \u001b[38;5;241m=\u001b[39m \u001b[43msigned_to_unsigned\u001b[49m\u001b[43m[\u001b[49m\u001b[43mdt\u001b[49m\u001b[38;5;241;43m.\u001b[39;49m\u001b[43mtype\u001b[49m\u001b[43m]\u001b[49m\n\u001b[1;32m    352\u001b[0m \u001b[38;5;28;01mexcept\u001b[39;00m \u001b[38;5;167;01mKeyError\u001b[39;00m:\n",
      "\u001b[0;31mKeyError\u001b[0m: <class 'numpy.bool_'>",
      "\nDuring handling of the above exception, another exception occurred:\n",
      "\u001b[0;31mTypeError\u001b[0m                                 Traceback (most recent call last)",
      "Cell \u001b[0;32mIn[7], line 4\u001b[0m\n\u001b[1;32m      1\u001b[0m \u001b[38;5;28;01mimport\u001b[39;00m \u001b[38;5;21;01mnumpy\u001b[39;00m \u001b[38;5;28;01mas\u001b[39;00m \u001b[38;5;21;01mnp\u001b[39;00m\n\u001b[1;32m      2\u001b[0m thresholded \u001b[38;5;241m=\u001b[39m np\u001b[38;5;241m.\u001b[39marray(volume) \u001b[38;5;241m>\u001b[39m \u001b[38;5;241m0.0\u001b[39m\n\u001b[0;32m----> 4\u001b[0m \u001b[43mplt\u001b[49m\u001b[38;5;241;43m.\u001b[39;49m\u001b[43mhist\u001b[49m\u001b[43m(\u001b[49m\u001b[43mnp\u001b[49m\u001b[38;5;241;43m.\u001b[39;49m\u001b[43mreshape\u001b[49m\u001b[43m(\u001b[49m\u001b[43mthresholded\u001b[49m\u001b[43m,\u001b[49m\u001b[43m \u001b[49m\u001b[43m[\u001b[49m\u001b[38;5;241;43m-\u001b[39;49m\u001b[38;5;241;43m1\u001b[39;49m\u001b[43m]\u001b[49m\u001b[43m)\u001b[49m\u001b[43m)\u001b[49m\n",
      "File \u001b[0;32m~/miniconda3/envs/scipion3/lib/python3.8/site-packages/matplotlib/pyplot.py:2645\u001b[0m, in \u001b[0;36mhist\u001b[0;34m(x, bins, range, density, weights, cumulative, bottom, histtype, align, orientation, rwidth, log, color, label, stacked, data, **kwargs)\u001b[0m\n\u001b[1;32m   2639\u001b[0m \u001b[38;5;129m@_copy_docstring_and_deprecators\u001b[39m(Axes\u001b[38;5;241m.\u001b[39mhist)\n\u001b[1;32m   2640\u001b[0m \u001b[38;5;28;01mdef\u001b[39;00m \u001b[38;5;21mhist\u001b[39m(\n\u001b[1;32m   2641\u001b[0m         x, bins\u001b[38;5;241m=\u001b[39m\u001b[38;5;28;01mNone\u001b[39;00m, \u001b[38;5;28mrange\u001b[39m\u001b[38;5;241m=\u001b[39m\u001b[38;5;28;01mNone\u001b[39;00m, density\u001b[38;5;241m=\u001b[39m\u001b[38;5;28;01mFalse\u001b[39;00m, weights\u001b[38;5;241m=\u001b[39m\u001b[38;5;28;01mNone\u001b[39;00m,\n\u001b[1;32m   2642\u001b[0m         cumulative\u001b[38;5;241m=\u001b[39m\u001b[38;5;28;01mFalse\u001b[39;00m, bottom\u001b[38;5;241m=\u001b[39m\u001b[38;5;28;01mNone\u001b[39;00m, histtype\u001b[38;5;241m=\u001b[39m\u001b[38;5;124m'\u001b[39m\u001b[38;5;124mbar\u001b[39m\u001b[38;5;124m'\u001b[39m, align\u001b[38;5;241m=\u001b[39m\u001b[38;5;124m'\u001b[39m\u001b[38;5;124mmid\u001b[39m\u001b[38;5;124m'\u001b[39m,\n\u001b[1;32m   2643\u001b[0m         orientation\u001b[38;5;241m=\u001b[39m\u001b[38;5;124m'\u001b[39m\u001b[38;5;124mvertical\u001b[39m\u001b[38;5;124m'\u001b[39m, rwidth\u001b[38;5;241m=\u001b[39m\u001b[38;5;28;01mNone\u001b[39;00m, log\u001b[38;5;241m=\u001b[39m\u001b[38;5;28;01mFalse\u001b[39;00m, color\u001b[38;5;241m=\u001b[39m\u001b[38;5;28;01mNone\u001b[39;00m,\n\u001b[1;32m   2644\u001b[0m         label\u001b[38;5;241m=\u001b[39m\u001b[38;5;28;01mNone\u001b[39;00m, stacked\u001b[38;5;241m=\u001b[39m\u001b[38;5;28;01mFalse\u001b[39;00m, \u001b[38;5;241m*\u001b[39m, data\u001b[38;5;241m=\u001b[39m\u001b[38;5;28;01mNone\u001b[39;00m, \u001b[38;5;241m*\u001b[39m\u001b[38;5;241m*\u001b[39mkwargs):\n\u001b[0;32m-> 2645\u001b[0m     \u001b[38;5;28;01mreturn\u001b[39;00m \u001b[43mgca\u001b[49m\u001b[43m(\u001b[49m\u001b[43m)\u001b[49m\u001b[38;5;241;43m.\u001b[39;49m\u001b[43mhist\u001b[49m\u001b[43m(\u001b[49m\n\u001b[1;32m   2646\u001b[0m \u001b[43m        \u001b[49m\u001b[43mx\u001b[49m\u001b[43m,\u001b[49m\u001b[43m \u001b[49m\u001b[43mbins\u001b[49m\u001b[38;5;241;43m=\u001b[39;49m\u001b[43mbins\u001b[49m\u001b[43m,\u001b[49m\u001b[43m \u001b[49m\u001b[38;5;28;43mrange\u001b[39;49m\u001b[38;5;241;43m=\u001b[39;49m\u001b[38;5;28;43mrange\u001b[39;49m\u001b[43m,\u001b[49m\u001b[43m \u001b[49m\u001b[43mdensity\u001b[49m\u001b[38;5;241;43m=\u001b[39;49m\u001b[43mdensity\u001b[49m\u001b[43m,\u001b[49m\u001b[43m \u001b[49m\u001b[43mweights\u001b[49m\u001b[38;5;241;43m=\u001b[39;49m\u001b[43mweights\u001b[49m\u001b[43m,\u001b[49m\n\u001b[1;32m   2647\u001b[0m \u001b[43m        \u001b[49m\u001b[43mcumulative\u001b[49m\u001b[38;5;241;43m=\u001b[39;49m\u001b[43mcumulative\u001b[49m\u001b[43m,\u001b[49m\u001b[43m \u001b[49m\u001b[43mbottom\u001b[49m\u001b[38;5;241;43m=\u001b[39;49m\u001b[43mbottom\u001b[49m\u001b[43m,\u001b[49m\u001b[43m \u001b[49m\u001b[43mhisttype\u001b[49m\u001b[38;5;241;43m=\u001b[39;49m\u001b[43mhisttype\u001b[49m\u001b[43m,\u001b[49m\n\u001b[1;32m   2648\u001b[0m \u001b[43m        \u001b[49m\u001b[43malign\u001b[49m\u001b[38;5;241;43m=\u001b[39;49m\u001b[43malign\u001b[49m\u001b[43m,\u001b[49m\u001b[43m \u001b[49m\u001b[43morientation\u001b[49m\u001b[38;5;241;43m=\u001b[39;49m\u001b[43morientation\u001b[49m\u001b[43m,\u001b[49m\u001b[43m \u001b[49m\u001b[43mrwidth\u001b[49m\u001b[38;5;241;43m=\u001b[39;49m\u001b[43mrwidth\u001b[49m\u001b[43m,\u001b[49m\u001b[43m \u001b[49m\u001b[43mlog\u001b[49m\u001b[38;5;241;43m=\u001b[39;49m\u001b[43mlog\u001b[49m\u001b[43m,\u001b[49m\n\u001b[1;32m   2649\u001b[0m \u001b[43m        \u001b[49m\u001b[43mcolor\u001b[49m\u001b[38;5;241;43m=\u001b[39;49m\u001b[43mcolor\u001b[49m\u001b[43m,\u001b[49m\u001b[43m \u001b[49m\u001b[43mlabel\u001b[49m\u001b[38;5;241;43m=\u001b[39;49m\u001b[43mlabel\u001b[49m\u001b[43m,\u001b[49m\u001b[43m \u001b[49m\u001b[43mstacked\u001b[49m\u001b[38;5;241;43m=\u001b[39;49m\u001b[43mstacked\u001b[49m\u001b[43m,\u001b[49m\n\u001b[1;32m   2650\u001b[0m \u001b[43m        \u001b[49m\u001b[38;5;241;43m*\u001b[39;49m\u001b[38;5;241;43m*\u001b[39;49m\u001b[43m(\u001b[49m\u001b[43m{\u001b[49m\u001b[38;5;124;43m\"\u001b[39;49m\u001b[38;5;124;43mdata\u001b[39;49m\u001b[38;5;124;43m\"\u001b[39;49m\u001b[43m:\u001b[49m\u001b[43m \u001b[49m\u001b[43mdata\u001b[49m\u001b[43m}\u001b[49m\u001b[43m \u001b[49m\u001b[38;5;28;43;01mif\u001b[39;49;00m\u001b[43m \u001b[49m\u001b[43mdata\u001b[49m\u001b[43m \u001b[49m\u001b[38;5;129;43;01mis\u001b[39;49;00m\u001b[43m \u001b[49m\u001b[38;5;129;43;01mnot\u001b[39;49;00m\u001b[43m \u001b[49m\u001b[38;5;28;43;01mNone\u001b[39;49;00m\u001b[43m \u001b[49m\u001b[38;5;28;43;01melse\u001b[39;49;00m\u001b[43m \u001b[49m\u001b[43m{\u001b[49m\u001b[43m}\u001b[49m\u001b[43m)\u001b[49m\u001b[43m,\u001b[49m\u001b[43m \u001b[49m\u001b[38;5;241;43m*\u001b[39;49m\u001b[38;5;241;43m*\u001b[39;49m\u001b[43mkwargs\u001b[49m\u001b[43m)\u001b[49m\n",
      "File \u001b[0;32m~/miniconda3/envs/scipion3/lib/python3.8/site-packages/matplotlib/__init__.py:1446\u001b[0m, in \u001b[0;36m_preprocess_data.<locals>.inner\u001b[0;34m(ax, data, *args, **kwargs)\u001b[0m\n\u001b[1;32m   1443\u001b[0m \u001b[38;5;129m@functools\u001b[39m\u001b[38;5;241m.\u001b[39mwraps(func)\n\u001b[1;32m   1444\u001b[0m \u001b[38;5;28;01mdef\u001b[39;00m \u001b[38;5;21minner\u001b[39m(ax, \u001b[38;5;241m*\u001b[39margs, data\u001b[38;5;241m=\u001b[39m\u001b[38;5;28;01mNone\u001b[39;00m, \u001b[38;5;241m*\u001b[39m\u001b[38;5;241m*\u001b[39mkwargs):\n\u001b[1;32m   1445\u001b[0m     \u001b[38;5;28;01mif\u001b[39;00m data \u001b[38;5;129;01mis\u001b[39;00m \u001b[38;5;28;01mNone\u001b[39;00m:\n\u001b[0;32m-> 1446\u001b[0m         \u001b[38;5;28;01mreturn\u001b[39;00m \u001b[43mfunc\u001b[49m\u001b[43m(\u001b[49m\u001b[43max\u001b[49m\u001b[43m,\u001b[49m\u001b[43m \u001b[49m\u001b[38;5;241;43m*\u001b[39;49m\u001b[38;5;28;43mmap\u001b[39;49m\u001b[43m(\u001b[49m\u001b[43msanitize_sequence\u001b[49m\u001b[43m,\u001b[49m\u001b[43m \u001b[49m\u001b[43margs\u001b[49m\u001b[43m)\u001b[49m\u001b[43m,\u001b[49m\u001b[43m \u001b[49m\u001b[38;5;241;43m*\u001b[39;49m\u001b[38;5;241;43m*\u001b[39;49m\u001b[43mkwargs\u001b[49m\u001b[43m)\u001b[49m\n\u001b[1;32m   1448\u001b[0m     bound \u001b[38;5;241m=\u001b[39m new_sig\u001b[38;5;241m.\u001b[39mbind(ax, \u001b[38;5;241m*\u001b[39margs, \u001b[38;5;241m*\u001b[39m\u001b[38;5;241m*\u001b[39mkwargs)\n\u001b[1;32m   1449\u001b[0m     auto_label \u001b[38;5;241m=\u001b[39m (bound\u001b[38;5;241m.\u001b[39marguments\u001b[38;5;241m.\u001b[39mget(label_namer)\n\u001b[1;32m   1450\u001b[0m                   \u001b[38;5;129;01mor\u001b[39;00m bound\u001b[38;5;241m.\u001b[39mkwargs\u001b[38;5;241m.\u001b[39mget(label_namer))\n",
      "File \u001b[0;32m~/miniconda3/envs/scipion3/lib/python3.8/site-packages/matplotlib/axes/_axes.py:6791\u001b[0m, in \u001b[0;36mAxes.hist\u001b[0;34m(self, x, bins, range, density, weights, cumulative, bottom, histtype, align, orientation, rwidth, log, color, label, stacked, **kwargs)\u001b[0m\n\u001b[1;32m   6787\u001b[0m \u001b[38;5;66;03m# Loop through datasets\u001b[39;00m\n\u001b[1;32m   6788\u001b[0m \u001b[38;5;28;01mfor\u001b[39;00m i \u001b[38;5;129;01min\u001b[39;00m \u001b[38;5;28mrange\u001b[39m(nx):\n\u001b[1;32m   6789\u001b[0m     \u001b[38;5;66;03m# this will automatically overwrite bins,\u001b[39;00m\n\u001b[1;32m   6790\u001b[0m     \u001b[38;5;66;03m# so that each histogram uses the same bins\u001b[39;00m\n\u001b[0;32m-> 6791\u001b[0m     m, bins \u001b[38;5;241m=\u001b[39m \u001b[43mnp\u001b[49m\u001b[38;5;241;43m.\u001b[39;49m\u001b[43mhistogram\u001b[49m\u001b[43m(\u001b[49m\u001b[43mx\u001b[49m\u001b[43m[\u001b[49m\u001b[43mi\u001b[49m\u001b[43m]\u001b[49m\u001b[43m,\u001b[49m\u001b[43m \u001b[49m\u001b[43mbins\u001b[49m\u001b[43m,\u001b[49m\u001b[43m \u001b[49m\u001b[43mweights\u001b[49m\u001b[38;5;241;43m=\u001b[39;49m\u001b[43mw\u001b[49m\u001b[43m[\u001b[49m\u001b[43mi\u001b[49m\u001b[43m]\u001b[49m\u001b[43m,\u001b[49m\u001b[43m \u001b[49m\u001b[38;5;241;43m*\u001b[39;49m\u001b[38;5;241;43m*\u001b[39;49m\u001b[43mhist_kwargs\u001b[49m\u001b[43m)\u001b[49m\n\u001b[1;32m   6792\u001b[0m     tops\u001b[38;5;241m.\u001b[39mappend(m)\n\u001b[1;32m   6793\u001b[0m tops \u001b[38;5;241m=\u001b[39m np\u001b[38;5;241m.\u001b[39marray(tops, \u001b[38;5;28mfloat\u001b[39m)  \u001b[38;5;66;03m# causes problems later if it's an int\u001b[39;00m\n",
      "File \u001b[0;32m<__array_function__ internals>:200\u001b[0m, in \u001b[0;36mhistogram\u001b[0;34m(*args, **kwargs)\u001b[0m\n",
      "File \u001b[0;32m~/miniconda3/envs/scipion3/lib/python3.8/site-packages/numpy/lib/histograms.py:810\u001b[0m, in \u001b[0;36mhistogram\u001b[0;34m(a, bins, range, density, weights)\u001b[0m\n\u001b[1;32m    807\u001b[0m n \u001b[38;5;241m=\u001b[39m np\u001b[38;5;241m.\u001b[39mzeros(n_equal_bins, ntype)\n\u001b[1;32m    809\u001b[0m \u001b[38;5;66;03m# Pre-compute histogram scaling factor\u001b[39;00m\n\u001b[0;32m--> 810\u001b[0m norm \u001b[38;5;241m=\u001b[39m n_equal_bins \u001b[38;5;241m/\u001b[39m \u001b[43m_unsigned_subtract\u001b[49m\u001b[43m(\u001b[49m\u001b[43mlast_edge\u001b[49m\u001b[43m,\u001b[49m\u001b[43m \u001b[49m\u001b[43mfirst_edge\u001b[49m\u001b[43m)\u001b[49m\n\u001b[1;32m    812\u001b[0m \u001b[38;5;66;03m# We iterate over blocks here for two reasons: the first is that for\u001b[39;00m\n\u001b[1;32m    813\u001b[0m \u001b[38;5;66;03m# large arrays, it is actually faster (for example for a 10^8 array it\u001b[39;00m\n\u001b[1;32m    814\u001b[0m \u001b[38;5;66;03m# is 2x as fast) and it results in a memory footprint 3x lower in the\u001b[39;00m\n\u001b[1;32m    815\u001b[0m \u001b[38;5;66;03m# limit of large arrays.\u001b[39;00m\n\u001b[1;32m    816\u001b[0m \u001b[38;5;28;01mfor\u001b[39;00m i \u001b[38;5;129;01min\u001b[39;00m _range(\u001b[38;5;241m0\u001b[39m, \u001b[38;5;28mlen\u001b[39m(a), BLOCK):\n",
      "File \u001b[0;32m~/miniconda3/envs/scipion3/lib/python3.8/site-packages/numpy/lib/histograms.py:353\u001b[0m, in \u001b[0;36m_unsigned_subtract\u001b[0;34m(a, b)\u001b[0m\n\u001b[1;32m    351\u001b[0m     dt \u001b[38;5;241m=\u001b[39m signed_to_unsigned[dt\u001b[38;5;241m.\u001b[39mtype]\n\u001b[1;32m    352\u001b[0m \u001b[38;5;28;01mexcept\u001b[39;00m \u001b[38;5;167;01mKeyError\u001b[39;00m:\n\u001b[0;32m--> 353\u001b[0m     \u001b[38;5;28;01mreturn\u001b[39;00m \u001b[43mnp\u001b[49m\u001b[38;5;241;43m.\u001b[39;49m\u001b[43msubtract\u001b[49m\u001b[43m(\u001b[49m\u001b[43ma\u001b[49m\u001b[43m,\u001b[49m\u001b[43m \u001b[49m\u001b[43mb\u001b[49m\u001b[43m,\u001b[49m\u001b[43m \u001b[49m\u001b[43mdtype\u001b[49m\u001b[38;5;241;43m=\u001b[39;49m\u001b[43mdt\u001b[49m\u001b[43m)\u001b[49m\n\u001b[1;32m    354\u001b[0m \u001b[38;5;28;01melse\u001b[39;00m:\n\u001b[1;32m    355\u001b[0m     \u001b[38;5;66;03m# we know the inputs are integers, and we are deliberately casting\u001b[39;00m\n\u001b[1;32m    356\u001b[0m     \u001b[38;5;66;03m# signed to unsigned\u001b[39;00m\n\u001b[1;32m    357\u001b[0m     \u001b[38;5;28;01mreturn\u001b[39;00m np\u001b[38;5;241m.\u001b[39msubtract(a, b, casting\u001b[38;5;241m=\u001b[39m\u001b[38;5;124m'\u001b[39m\u001b[38;5;124munsafe\u001b[39m\u001b[38;5;124m'\u001b[39m, dtype\u001b[38;5;241m=\u001b[39mdt)\n",
      "\u001b[0;31mTypeError\u001b[0m: numpy boolean subtract, the `-` operator, is not supported, use the bitwise_xor, the `^` operator, or the logical_xor function instead."
     ]
    },
    {
     "data": {
      "image/png": "[encoded data removed]",
      "text/plain": [
       "<Figure size 640x480 with 1 Axes>"
      ]
     },
     "metadata": {},
     "output_type": "display_data"
    }
   ],
   "source": [
    "import numpy as np\n",
    "thresholded = np.array(volume) > 0.0\n",
    "\n",
    "plt.hist(np.reshape(thresholded, [-1]))"
   ]
  },
  {
   "cell_type": "code",
   "execution_count": null,
   "id": "91f4d7bd-b6e0-4ba7-9548-e458105f227b",
   "metadata": {},
   "outputs": [],
   "source": [
    "# [XMIPP] scipion run xmipp_volume_align --i1 data/downloaded/emd_41510.map --i2 /tmp/tmpvmzz70hb --local --apply /tmp/tmp09zqxngg.vol"
   ]
  },
  {
   "cell_type": "code",
   "execution_count": 6,
   "id": "917b4119-f495-4ea9-aa70-16f291abd30e",
   "metadata": {},
   "outputs": [
    {
     "name": "stdout",
     "output_type": "stream",
     "text": [
      "/tmp/tmpi0j_6yop.vol\n"
     ]
    }
   ],
   "source": [
    "print(volume.path)"
   ]
  },
  {
   "cell_type": "code",
   "execution_count": 5,
   "id": "81819ab4-3ef1-4c5a-b1e6-7c3d51d252d9",
   "metadata": {},
   "outputs": [],
   "source": [
    "volume.file_ext()"
   ]
  },
  {
   "cell_type": "markdown",
   "id": "5e3614f1-ead8-4149-bb65-f7f47d9cdf9b",
   "metadata": {},
   "source": [
    "### Mask from Volume"
   ]
  },
  {
   "cell_type": "code",
   "execution_count": 5,
   "id": "9f69f91b-8f60-4e7e-853a-4c5355ffb949",
   "metadata": {},
   "outputs": [
    {
     "name": "stdout",
     "output_type": "stream",
     "text": [
      "[XMIPP] scipion run xmipp_transform_threshold -i /tmp/tmpih2qynru.vol -o /tmp/tmppksnirse.vol --select below 0.02 --substitute binarize\n",
      "Input File: /tmp/tmpih2qynru.vol\n",
      "Output File: /tmp/tmppksnirse.vol\n",
      "Xmipp command detected\n",
      "Scipion v3.7.1 - Eugenius\n",
      "[XMIPP] scipion run xmipp_transform_morphology -i /tmp/tmppksnirse.vol -o /tmp/tmpla1dvahv.vol --binaryOperation dilation --size 2\n",
      "Input File: /tmp/tmppksnirse.vol\n",
      "Output File: /tmp/tmpla1dvahv.vol\n",
      "Initially the image has 487083 pixels set to 1\n",
      "Finally the image has 646612 pixels set to 1\n",
      "Xmipp command detected\n",
      "Scipion v3.7.1 - Eugenius\n"
     ]
    },
    {
     "data": {
      "application/vnd.jupyter.widget-view+json": {
       "model_id": "1282ccb314174734a791e114342fea38",
       "version_major": 2,
       "version_minor": 0
      },
      "text/plain": [
       "Output()"
      ]
     },
     "metadata": {},
     "output_type": "display_data"
    }
   ],
   "source": [
    "mask = scipion.xmipp_transform_threshold(\n",
    "    volume, select=\"below 0.02\", substitute=\"binarize\"\n",
    ")\n",
    "mask = scipion.xmipp_transform_morphology(mask, binary_operation=\"dilation\", size=2)\n",
    "\n",
    "mask"
   ]
  },
  {
   "cell_type": "code",
   "execution_count": 6,
   "id": "fa8327a2-cb3c-4d52-a71d-5be666c520f7",
   "metadata": {},
   "outputs": [
    {
     "name": "stdout",
     "output_type": "stream",
     "text": [
      "[XMIPP] scipion run xmipp_image_convert -i /tmp/tmpih2qynru.vol -o /tmp/tmprqtfitwb.mrc -t vol\n",
      "Input File: /tmp/tmpih2qynru.vol\n",
      "Output File: /tmp/tmprqtfitwb.mrc\n",
      "Xmipp command detected\n",
      "Scipion v3.7.1 - Eugenius\n",
      "[XMIPP] scipion run xmipp_image_header -i /tmp/tmprqtfitwb.mrc -s 0.835\n",
      "Input File: /tmp/tmprqtfitwb.mrc\n",
      "New sampling rate (Angstrom) = 0.835\n",
      "Xmipp command detected\n",
      "Scipion v3.7.1 - Eugenius\n",
      "[XMIPP] scipion run xmipp_image_convert -i /tmp/tmpla1dvahv.vol -o /tmp/tmpjvct5xl5.mrc -t vol\n",
      "Input File: /tmp/tmpla1dvahv.vol\n",
      "Output File: /tmp/tmpjvct5xl5.mrc\n",
      "Xmipp command detected\n",
      "Scipion v3.7.1 - Eugenius\n",
      "[XMIPP] scipion run xmipp_image_header -i /tmp/tmpjvct5xl5.mrc -s 0.835\n",
      "Input File: /tmp/tmpjvct5xl5.mrc\n",
      "New sampling rate (Angstrom) = 0.835\n",
      "Xmipp command detected\n",
      "Scipion v3.7.1 - Eugenius\n"
     ]
    }
   ],
   "source": [
    "def apply_sampling(data, sampling):\n",
    "    data = scipion.xmipp_image_convert(data)\n",
    "    scipion.xmipp_image_header(data, sampling=sampling)\n",
    "\n",
    "    return data\n",
    "\n",
    "volume = apply_sampling(volume, metadata.sampling)\n",
    "mask = apply_sampling(mask, metadata.sampling)"
   ]
  },
  {
   "cell_type": "markdown",
   "id": "cafd110b-d6aa-408d-854c-e82ee9e0904f",
   "metadata": {},
   "source": [
    "### Compute BlocRes"
   ]
  },
  {
   "cell_type": "code",
   "execution_count": 7,
   "id": "50dfc6e4-2dd2-4953-a545-b5891aca08ee",
   "metadata": {},
   "outputs": [
    {
     "name": "stdout",
     "output_type": "stream",
     "text": [
      "[BlocRes] /home/max/scipion3/software/em/bsoft/bin/blocres  -Mask /tmp/tmpjvct5xl5.mrc -sampling 0.835 0.835 0.835 -box 18 -cutoff 0.5 -nofill -smooth -pad 1 -step 1 -maxresolution 0.5 -verbose 1 data/downloaded/emd_41510_half_map_1.map data/downloaded/emd_41510_half_map_2.map /tmp/tmpunxxt95c.map\n",
      "# /home/max/scipion3/software/em/bsoft/bin/blocres -Mask /tmp/tmpjvct5xl5.mrc -sampling 0.835 0.835 0.835 -box 18 -cutoff 0.5 -nofill -smooth -pad 1 -step 1 -maxresolution 0.5 -verbose 1 data/downloaded/emd_41510_half_map_1.map data/downloaded/emd_41510_half_map_2.map /tmp/tmpunxxt95c.map \n",
      "# Wed Jul 16 13:15:13 2025\n",
      "\n",
      "\n",
      "Calculating local resolution:\n",
      "Mask:                           /tmp/tmpjvct5xl5.mrc (-1)\n",
      "Kernel size:                    18\n",
      "Step size:                      1\n",
      "Edge size:                      9\t9\t9\n",
      "Padding size:                   36\n",
      "Smoothing/tapering:             2\n",
      "Cutoff(s):                      0.500\n",
      "\n",
      "Boxes to calculate:             646612\n",
      "\n",
      "Boxes calculated:               646612\n",
      "\n"
     ]
    }
   ],
   "source": [
    "blocres_half = blocres(\n",
    "    str(map_1),\n",
    "    str(map_2),\n",
    "    mask=mask,\n",
    "    sampling=f\"{metadata.sampling} {metadata.sampling} {metadata.sampling}\",\n",
    "    box=int(metadata.resolution * 6),\n",
    "    cutoff=0.5,\n",
    "    step=1,\n",
    "    verbose=1,\n",
    ")"
   ]
  },
  {
   "cell_type": "code",
   "execution_count": 8,
   "id": "cf7c582a-5ff0-4de0-b4fc-e4f308277cf6",
   "metadata": {},
   "outputs": [
    {
     "name": "stdout",
     "output_type": "stream",
     "text": [
      "[XMIPP] scipion run xmipp_pdb_label_from_volume -o /tmp/tmp7efz7quw.atom.pdb --pdb data/downloaded/pdb8tqo.ent --vol /tmp/tmpcwzph5sb.map --mask /tmp/tmpcub3ywqh.mrc --sampling 0.835 --origin 0.000000 0.000000 0.000000\n",
      "PDB file:           data/downloaded/pdb8tqo.ent\n",
      "Output:       /tmp/tmp7efz7quw.atom.pdb\n",
      "Sampling rate:        0.835\n",
      "Origin:               0.000000 0.000000 0.000000 \n",
      "Radius:               0.8\n",
      "mean value: = 3.2293\n",
      "absolute mean value: = 3.2293\n",
      "Xmipp command detected\n",
      "Scipion v3.7.1 - Eugenius\n"
     ]
    },
    {
     "data": {
      "text/plain": [
       "'data/blocres_result_41510.pdb'"
      ]
     },
     "execution_count": 8,
     "metadata": {},
     "output_type": "execute_result"
    }
   ],
   "source": [
    "atomic_model = scipion.xmipp_pdb_label_from_volume(\n",
    "    pdb=str(pdb_model),\n",
    "    volume=blocres_half,\n",
    "    mask=mask,\n",
    "    sampling=metadata.sampling,\n",
    "    origin=\"%f %f %f\" % (metadata.org_x, metadata.org_y, metadata.org_z),\n",
    ")\n",
    "\n",
    "shutil.copy(atomic_model.path, f\"data/blocres_result_{EMDB_ENTRY}.pdb\")"
   ]
  },
  {
   "cell_type": "code",
   "execution_count": null,
   "id": "ba5fd182-4657-4d13-a844-6b5280eb8102",
   "metadata": {},
   "outputs": [],
   "source": []
  }
 ],
 "metadata": {
  "kernelspec": {
   "display_name": "Python 3 (ipykernel)",
   "language": "python",
   "name": "python3"
  },
  "language_info": {
   "codemirror_mode": {
    "name": "ipython",
    "version": 3
   },
   "file_extension": ".py",
   "mimetype": "text/x-python",
   "name": "python",
   "nbconvert_exporter": "python",
   "pygments_lexer": "ipython3",
   "version": "3.8.20"
  }
 },
 "nbformat": 4,
 "nbformat_minor": 5
}
