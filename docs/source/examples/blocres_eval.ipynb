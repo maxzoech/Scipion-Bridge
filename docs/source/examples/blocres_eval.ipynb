{
 "cells": [
  {
   "cell_type": "markdown",
   "id": "c9d7f650",
   "metadata": {},
   "source": [
    "# Compute BlocRes Evaluation"
   ]
  },
  {
   "cell_type": "code",
   "execution_count": 1,
   "id": "60afa068-1149-4c02-bfd0-40d92c92f7f7",
   "metadata": {},
   "outputs": [],
   "source": [
    "import os\n",
    "from pathlib import Path\n",
    "import numpy as np\n",
    "\n",
    "import scipion_bridge\n",
    "import scipion_bridge.ffi.scipion as scipion\n",
    "# from scipion_bridge.ffi.blocres import blocres\n",
    "# from scipion_bridge.proxy import OutputInfo\n",
    "\n",
    "import shutil\n",
    "\n",
    "from utils import download as D\n",
    "scipion_bridge.utils.environment.configure_default_env()\n",
    "\n",
    "import matplotlib.pyplot as plt"
   ]
  },
  {
   "cell_type": "markdown",
   "id": "c922cc36-67a7-4da3-a6a1-15b18af47f2b",
   "metadata": {},
   "source": [
    "### Download Data"
   ]
  },
  {
   "cell_type": "code",
   "execution_count": 2,
   "id": "5057b89e-44f4-462b-a5e3-b2aac5d65f52",
   "metadata": {},
   "outputs": [],
   "source": [
    "DOWNLOAD_PATH = Path(\"data/downloaded\")\n",
    "EMDB_ENTRY = 41510"
   ]
  },
  {
   "cell_type": "code",
   "execution_count": 3,
   "id": "0ce8ff5a-10c8-4d51-a0eb-5fad145dd945",
   "metadata": {},
   "outputs": [
    {
     "data": {
      "text/plain": [
       "EMDBMetadata(pdb_id='7l70', resolution=3.1, sampling=0.835, size=256, org_x=0, org_y=0, org_z=0)"
      ]
     },
     "execution_count": 3,
     "metadata": {},
     "output_type": "execute_result"
    }
   ],
   "source": [
    "metadata = D.download_emdb_metadata(entry_id=EMDB_ENTRY)\n",
    "\n",
    "os.makedirs(DOWNLOAD_PATH, exist_ok=True)\n",
    "\n",
    "emdb_map = D.download_emdb_map(EMDB_ENTRY, DOWNLOAD_PATH)\n",
    "map_1, map_2 = D.download_halfmaps(EMDB_ENTRY, DOWNLOAD_PATH)\n",
    "pdb_model = D.download_pdb_model(\"8tqo\", DOWNLOAD_PATH) # metadata.pdb_id\n",
    "\n",
    "metadata"
   ]
  },
  {
   "cell_type": "markdown",
   "id": "61ce49c4-7b51-4b12-b05a-ef571b366143",
   "metadata": {},
   "source": [
    "### Create Volume from PDB"
   ]
  },
  {
   "cell_type": "code",
   "execution_count": 17,
   "id": "4fa68922-f07b-429f-8d67-545357fad81f",
   "metadata": {},
   "outputs": [
    {
     "name": "stdout",
     "output_type": "stream",
     "text": [
      "[XMIPP] scipion run xmipp_volume_from_pdb -i data/downloaded/pdb8tqo.ent -o /tmp/tmp_2969cjl --centerPDB -v 0 --sampling 0.835 --size 256\n",
      "Xmipp command detected\n",
      "Scipion v3.7.1 - Eugenius\n",
      "[XMIPP] scipion run xmipp_volume_align --i1 data/downloaded/emd_41510.map --i2 /tmp/tmp_2969cjl.vol --local --apply /tmp/tmpjqimc0r_.vol\n",
      "1 (1,0,0,0,0,1,0,0,0)--->-0.349795\n",
      "   (1,0,***0.709587,0,0,1,0,0,0)--->-0.354899\n",
      "   (1,0,0.709587,***0.889898,0,1,0,0,0)--->-0.359015\n",
      "   (1,0,0.709587,0.889898,***-2.02647,1,0,0,0)--->-0.364126\n",
      "   (1,0,0.709587,0.889898,-2.02647,***1.0526,0,0,0)--->-0.372631\n",
      "   (1,0,0.709587,0.889898,-2.02647,1.0526,***-4.86482,0,0)--->-0.388258\n",
      "   (1,0,0.709587,0.889898,-2.02647,1.0526,-4.86482,***3.64532,0)--->-0.465488\n",
      "   (1,0,0.709587,0.889898,-2.02647,1.0526,-4.86482,3.64532,***2.76693)--->-0.558715\n",
      "2 (1,0,0.709587,0.889898,-2.02647,1.0526,-4.86482,3.64532,2.76693)--->-0.558715\n",
      "   (1,0,***2.07012,0.889898,-2.02647,1.0526,-4.86482,3.64532,2.76693)--->-0.576119\n",
      "   (1,0,2.07012,***0.261686,-2.02647,1.0526,-4.86482,3.64532,2.76693)--->-0.579633\n",
      "   (1,0,2.07012,0.261686,***-2.07067,1.0526,-4.86482,3.64532,2.76693)--->-0.579657\n",
      "   (1,0,2.07012,0.261686,-2.07067,***1.00105,-4.86482,3.64532,2.76693)--->-0.723017\n",
      "   (1,0,2.07012,0.261686,-2.07067,1.00105,***-4.89737,3.64532,2.76693)--->-0.723091\n",
      "   (1,0,2.07012,0.261686,-2.07067,1.00105,-4.89737,***3.76995,2.76693)--->-0.723845\n",
      "   (1,0,2.07012,0.261686,-2.07067,1.00105,-4.89737,3.76995,***2.72043)--->-0.723931\n",
      "3 (1,0,2.07012,0.261686,-2.07067,1.00105,-4.89737,3.76995,2.72043)--->-0.723931\n",
      "   (1,0,***2.0461,0.261686,-2.07067,1.00105,-4.89737,3.76995,2.72043)--->-0.723942\n",
      "   (1,0,2.0461,***0.294048,-2.07067,1.00105,-4.89737,3.76995,2.72043)--->-0.72397\n",
      "   (1,0,2.0461,0.294048,***-2.06749,1.00105,-4.89737,3.76995,2.72043)--->-0.72397\n",
      "   (1,0,2.0461,0.294048,-2.06749,***1.00104,-4.89737,3.76995,2.72043)--->-0.72397\n",
      "   (1,0,2.0461,0.294048,-2.06749,1.00104,***-4.88941,3.76995,2.72043)--->-0.723976\n",
      "   (1,0,2.0461,0.294048,-2.06749,1.00104,-4.88941,***3.77281,2.72043)--->-0.723977\n",
      "   (1,0,2.0461,0.294048,-2.06749,1.00104,-4.88941,3.77281,***2.72281)--->-0.723977\n",
      "The best correlation is for\n",
      "Scale                  : 1.00104\n",
      "Translation (X,Y,Z)    : 2.72281 3.77281 -4.88941\n",
      "Rotation (rot,tilt,psi): 2.0461 0.294048 -2.06749\n",
      "Best grey scale       : 1\n",
      "Best grey shift       : 0\n",
      "Fitness value         : -0.723977\n",
      "xmipp_transform_geometry will require the following values\n",
      "   Angles: 2.0461 0.294048 -2.06749\n",
      "   Shifts: 2.74644 3.77473 -4.87469\n",
      "Xmipp command detected\n",
      "Scipion v3.7.1 - Eugenius\n"
     ]
    },
    {
     "data": {
      "application/vnd.jupyter.widget-view+json": {
       "model_id": "0e744ce495144e688fead2904d13c860",
       "version_major": 2,
       "version_minor": 0
      },
      "text/plain": [
       "Output()"
      ]
     },
     "metadata": {},
     "output_type": "display_data"
    }
   ],
   "source": [
    "volume = scipion.xmipp_volume_from_pdb(\n",
    "    pdb_model,\n",
    "    center_pdb=\"-v 0\",\n",
    "    sampling=metadata.sampling,\n",
    "    size=metadata.size,\n",
    ").typed(astype=scipion_bridge.typed.volume.SpiderFile, copy_data=False)\n",
    "\n",
    "volume = scipion.xmipp_volume_align(\n",
    "    embdb_map=emdb_map,\n",
    "    volume=volume,\n",
    "    local=True,\n",
    ")\n",
    "\n",
    "volume"
   ]
  },
  {
   "cell_type": "code",
   "execution_count": 6,
   "id": "0e87a595-d754-40e6-829e-100a1027bff9",
   "metadata": {},
   "outputs": [
    {
     "data": {
      "application/vnd.jupyter.widget-view+json": {
       "model_id": "1d83f289134140fe9446a0b3fe9540e6",
       "version_major": 2,
       "version_minor": 0
      },
      "text/plain": [
       "interactive(children=(IntSlider(value=0, description='i', max=255), Output()), _dom_classes=('widget-interact'…"
      ]
     },
     "metadata": {},
     "output_type": "display_data"
    }
   ],
   "source": [
    "from ipywidgets import interact, IntSlider\n",
    "@interact(i=IntSlider(min=0, max=255))\n",
    "def plot_slices(i=125):\n",
    "    plt.imshow(np.array(volume)[i], cmap=\"gray\")"
   ]
  },
  {
   "cell_type": "code",
   "execution_count": 6,
   "id": "91f4d7bd-b6e0-4ba7-9548-e458105f227b",
   "metadata": {},
   "outputs": [],
   "source": [
    "# [XMIPP] scipion run xmipp_volume_align --i1 data/downloaded/emd_41510.map --i2 /tmp/tmpvmzz70hb --local --apply /tmp/tmp09zqxngg.vol"
   ]
  },
  {
   "cell_type": "code",
   "execution_count": 7,
   "id": "342ccc7d-ee34-4e14-97a0-766947564153",
   "metadata": {},
   "outputs": [
    {
     "data": {
      "text/plain": [
       "<scipion_bridge.typed.volume.SpiderFile at 0x7a02242fc1c0>"
      ]
     },
     "execution_count": 7,
     "metadata": {},
     "output_type": "execute_result"
    }
   ],
   "source": [
    "volume"
   ]
  },
  {
   "cell_type": "markdown",
   "id": "5e3614f1-ead8-4149-bb65-f7f47d9cdf9b",
   "metadata": {},
   "source": [
    "### Mask from Volume"
   ]
  },
  {
   "cell_type": "code",
   "execution_count": 7,
   "id": "9f69f91b-8f60-4e7e-853a-4c5355ffb949",
   "metadata": {},
   "outputs": [
    {
     "name": "stdout",
     "output_type": "stream",
     "text": [
      "[XMIPP] scipion run xmipp_transform_threshold -i /tmp/tmpkzz5xy7e.vol -o /tmp/tmpfw9sjx3z.vol --select below 0.02 --substitute binarize\n",
      "Input File: /tmp/tmpkzz5xy7e.vol\n",
      "Output File: /tmp/tmpfw9sjx3z.vol\n",
      "Xmipp command detected\n",
      "Scipion v3.7.1 - Eugenius\n"
     ]
    },
    {
     "data": {
      "application/vnd.jupyter.widget-view+json": {
       "model_id": "7c7f6199f1f54841929eae7c66f1d653",
       "version_major": 2,
       "version_minor": 0
      },
      "text/plain": [
       "Output()"
      ]
     },
     "metadata": {},
     "output_type": "display_data"
    }
   ],
   "source": [
    "import logging\n",
    "\n",
    "\n",
    "mask = scipion.xmipp_transform_threshold(\n",
    "    volume, select=\"below 0.02\", substitute=\"binarize\"\n",
    ")\n",
    "\n",
    "mask"
   ]
  },
  {
   "cell_type": "code",
   "execution_count": 16,
   "id": "bc70ab1b-0f73-4eba-a790-7c3f5840fe72",
   "metadata": {},
   "outputs": [
    {
     "name": "stdout",
     "output_type": "stream",
     "text": [
      "[XMIPP] scipion run xmipp_transform_threshold -i /tmp/tmpdg8wswwh.vol -o /tmp/tmpv1hqd8_1.vol --select above 0.5 --substitute binarize\n",
      "Input File: /tmp/tmpdg8wswwh.vol\n",
      "Output File: /tmp/tmpv1hqd8_1.vol\n",
      "Xmipp command detected\n",
      "Scipion v3.7.1 - Eugenius\n"
     ]
    },
    {
     "data": {
      "application/vnd.jupyter.widget-view+json": {
       "model_id": "5a47c87b81944e049740db900053a82e",
       "version_major": 2,
       "version_minor": 0
      },
      "text/plain": [
       "Output()"
      ]
     },
     "metadata": {},
     "output_type": "display_data"
    }
   ],
   "source": [
    "np_array = np.random.normal(-1, 1, [256, 256, 256])\n",
    "scipion.xmipp_transform_threshold(\n",
    "    np_array, select=\"above 0.5\", substitute=\"binarize\"\n",
    ")"
   ]
  },
  {
   "cell_type": "code",
   "execution_count": 14,
   "id": "f177ec3e-98a1-41b2-b5ff-f3b79f3ffba9",
   "metadata": {},
   "outputs": [
    {
     "name": "stdout",
     "output_type": "stream",
     "text": [
      "Scipion v3.7.1 - Eugenius\n",
      "Xmipp command detected\n",
      "This method will return the plugin class in the future. Please use getPluginModule instead\n",
      "\u001b[1;31mPROGRAM\u001b[0m\n",
      "   xmipp_transform_threshold\n",
      "\u001b[1;31mUSAGE\u001b[0m\n",
      "   Threshold volumes and images \n",
      "\u001b[1;31mSEE ALSO\u001b[0m\n",
      "   transform_mask, transform_morphology\n",
      "\u001b[1;31mOPTIONS\u001b[0m\n",
      "\n",
      "   \u001b[1;34m-i\u001b[0m, --input <input_file>\n",
      "          Input file: metadata, stack, volume or image. \n",
      "   [\u001b[1;32m-o\u001b[0m, --output <output_file=>]\n",
      "          Output file: metadata, stack, volume or image. \n",
      "   [\u001b[1;32m--oroot\u001b[0m <root=>]\n",
      "          Rootname of output individual images. \n",
      "          Output image format can be set adding extension after rootname as \":ext\". \n",
      "   \u001b[1;34m--select\u001b[0m <mode>\n",
      "           Select pixels meeting \n",
      "      where <mode> can be:\n",
      "        abs_below <th>\n",
      "           Absolute value below a threshold \n",
      "        below <th>\n",
      "           Below a threshold \n",
      "        above <th>\n",
      "           Above a threshold \n",
      "   \u001b[1;34m--substitute\u001b[0m <substitutionMode=value>\n",
      "           Substitute selected pixels by \n",
      "      where <substitutionMode> can be:\n",
      "        binarize\n",
      "           Selected are set to 0, non-selected to 1 \n",
      "        value <new=0>\n",
      "           New value \n",
      "        noise <avg=0> <stddev=1>\n",
      "           Gaussian noise \n",
      "        avg\n",
      "           Average of non-selected \n",
      "\n",
      "\u001b[1;31m Common options \u001b[0m\n",
      "   [\u001b[1;32m--more\u001b[0m]\n",
      "           Show additional options. \n",
      "\u001b[1;31mEXAMPLES\u001b[0m\n",
      "   Threshold a volume below a threshold\n",
      "      \u001b[1;34mxmipp_transform_threshold -i volume.vol -o volumeThresholded.vol --select below 0.01 --substitute value 0\u001b[0m\n",
      "   Generate a binary mask based on a threshold and apply it\n",
      "      \u001b[1;34mxmipp_transform_threshold -i volume.vol -o mask.vol --select below 0.5 --substitute binarize\u001b[0m\n",
      "      \u001b[1;34mxmipp_transform_morphology -i mask.vol --dil\u001b[0m\n",
      "      \u001b[1;34mxmipp_transform_mask -i volume.vol -o volumeMasked.vol --mask mask.vol\u001b[0m\n"
     ]
    }
   ],
   "source": [
    "!scipion run xmipp_transform_threshold"
   ]
  },
  {
   "cell_type": "code",
   "execution_count": null,
   "id": "fa8327a2-cb3c-4d52-a71d-5be666c520f7",
   "metadata": {},
   "outputs": [],
   "source": [
    "def apply_sampling(data, sampling):\n",
    "    data = scipion.xmipp_image_convert(data)\n",
    "    scipion.xmipp_image_header(data, sampling=sampling)\n",
    "\n",
    "    return data\n",
    "\n",
    "volume = apply_sampling(volume, metadata.sampling)\n",
    "mask = apply_sampling(mask, metadata.sampling)"
   ]
  },
  {
   "cell_type": "markdown",
   "id": "cafd110b-d6aa-408d-854c-e82ee9e0904f",
   "metadata": {},
   "source": [
    "### Compute BlocRes"
   ]
  },
  {
   "cell_type": "code",
   "execution_count": 7,
   "id": "50dfc6e4-2dd2-4953-a545-b5891aca08ee",
   "metadata": {},
   "outputs": [
    {
     "name": "stdout",
     "output_type": "stream",
     "text": [
      "[BlocRes] /home/max/scipion3/software/em/bsoft/bin/blocres  -Mask /tmp/tmpjvct5xl5.mrc -sampling 0.835 0.835 0.835 -box 18 -cutoff 0.5 -nofill -smooth -pad 1 -step 1 -maxresolution 0.5 -verbose 1 data/downloaded/emd_41510_half_map_1.map data/downloaded/emd_41510_half_map_2.map /tmp/tmpunxxt95c.map\n",
      "# /home/max/scipion3/software/em/bsoft/bin/blocres -Mask /tmp/tmpjvct5xl5.mrc -sampling 0.835 0.835 0.835 -box 18 -cutoff 0.5 -nofill -smooth -pad 1 -step 1 -maxresolution 0.5 -verbose 1 data/downloaded/emd_41510_half_map_1.map data/downloaded/emd_41510_half_map_2.map /tmp/tmpunxxt95c.map \n",
      "# Wed Jul 16 13:15:13 2025\n",
      "\n",
      "\n",
      "Calculating local resolution:\n",
      "Mask:                           /tmp/tmpjvct5xl5.mrc (-1)\n",
      "Kernel size:                    18\n",
      "Step size:                      1\n",
      "Edge size:                      9\t9\t9\n",
      "Padding size:                   36\n",
      "Smoothing/tapering:             2\n",
      "Cutoff(s):                      0.500\n",
      "\n",
      "Boxes to calculate:             646612\n",
      "\n",
      "Boxes calculated:               646612\n",
      "\n"
     ]
    }
   ],
   "source": [
    "blocres_half = blocres(\n",
    "    str(map_1),\n",
    "    str(map_2),\n",
    "    mask=mask,\n",
    "    sampling=f\"{metadata.sampling} {metadata.sampling} {metadata.sampling}\",\n",
    "    box=int(metadata.resolution * 6),\n",
    "    cutoff=0.5,\n",
    "    step=1,\n",
    "    verbose=1,\n",
    ")"
   ]
  },
  {
   "cell_type": "code",
   "execution_count": 8,
   "id": "cf7c582a-5ff0-4de0-b4fc-e4f308277cf6",
   "metadata": {},
   "outputs": [
    {
     "name": "stdout",
     "output_type": "stream",
     "text": [
      "[XMIPP] scipion run xmipp_pdb_label_from_volume -o /tmp/tmp7efz7quw.atom.pdb --pdb data/downloaded/pdb8tqo.ent --vol /tmp/tmpcwzph5sb.map --mask /tmp/tmpcub3ywqh.mrc --sampling 0.835 --origin 0.000000 0.000000 0.000000\n",
      "PDB file:           data/downloaded/pdb8tqo.ent\n",
      "Output:       /tmp/tmp7efz7quw.atom.pdb\n",
      "Sampling rate:        0.835\n",
      "Origin:               0.000000 0.000000 0.000000 \n",
      "Radius:               0.8\n",
      "mean value: = 3.2293\n",
      "absolute mean value: = 3.2293\n",
      "Xmipp command detected\n",
      "Scipion v3.7.1 - Eugenius\n"
     ]
    },
    {
     "data": {
      "text/plain": [
       "'data/blocres_result_41510.pdb'"
      ]
     },
     "execution_count": 8,
     "metadata": {},
     "output_type": "execute_result"
    }
   ],
   "source": [
    "atomic_model = scipion.xmipp_pdb_label_from_volume(\n",
    "    pdb=str(pdb_model),\n",
    "    volume=blocres_half,\n",
    "    mask=mask,\n",
    "    sampling=metadata.sampling,\n",
    "    origin=\"%f %f %f\" % (metadata.org_x, metadata.org_y, metadata.org_z),\n",
    ")\n",
    "\n",
    "shutil.copy(atomic_model.path, f\"data/blocres_result_{EMDB_ENTRY}.pdb\")"
   ]
  },
  {
   "cell_type": "code",
   "execution_count": null,
   "id": "ba5fd182-4657-4d13-a844-6b5280eb8102",
   "metadata": {},
   "outputs": [],
   "source": []
  }
 ],
 "metadata": {
  "kernelspec": {
   "display_name": "Python 3 (ipykernel)",
   "language": "python",
   "name": "python3"
  },
  "language_info": {
   "codemirror_mode": {
    "name": "ipython",
    "version": 3
   },
   "file_extension": ".py",
   "mimetype": "text/x-python",
   "name": "python",
   "nbconvert_exporter": "python",
   "pygments_lexer": "ipython3",
   "version": "3.8.20"
  }
 },
 "nbformat": 4,
 "nbformat_minor": 5
}
