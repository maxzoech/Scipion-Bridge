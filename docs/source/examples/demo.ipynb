{
 "cells": [
  {
   "cell_type": "markdown",
   "id": "c9d7f650",
   "metadata": {},
   "source": [
    "# Scipion Bridge Demo"
   ]
  },
  {
   "cell_type": "code",
   "execution_count": 1,
   "id": "60afa068-1149-4c02-bfd0-40d92c92f7f7",
   "metadata": {},
   "outputs": [],
   "source": [
    "import os\n",
    "from pathlib import Path\n",
    "import numpy as np\n",
    "\n",
    "import scipion_bridge\n",
    "import scipion_bridge.ffi.scipion as scipion\n",
    "from scipion_bridge.typed import volume, common, proxy\n",
    "# from scipion_bridge.ffi.blocres import blocres\n",
    "# from scipion_bridge.proxy import OutputInfo\n",
    "\n",
    "import shutil\n",
    "\n",
    "from utils import download as D\n",
    "scipion_bridge.utils.environment.configure_default_env()\n",
    "\n",
    "import matplotlib.pyplot as plt"
   ]
  },
  {
   "cell_type": "markdown",
   "id": "c922cc36-67a7-4da3-a6a1-15b18af47f2b",
   "metadata": {},
   "source": [
    "### Download Data"
   ]
  },
  {
   "cell_type": "code",
   "execution_count": 2,
   "id": "5057b89e-44f4-462b-a5e3-b2aac5d65f52",
   "metadata": {},
   "outputs": [],
   "source": [
    "DOWNLOAD_PATH = Path(\"data/downloaded\")\n",
    "EMDB_ENTRY = 41510"
   ]
  },
  {
   "cell_type": "code",
   "execution_count": 3,
   "id": "0ce8ff5a-10c8-4d51-a0eb-5fad145dd945",
   "metadata": {},
   "outputs": [
    {
     "data": {
      "text/plain": [
       "EMDBMetadata(pdb_id='7l70', resolution=3.1, sampling=0.835, size=256, org_x=0, org_y=0, org_z=0)"
      ]
     },
     "execution_count": 3,
     "metadata": {},
     "output_type": "execute_result"
    }
   ],
   "source": [
    "metadata = D.download_emdb_metadata(entry_id=EMDB_ENTRY)\n",
    "\n",
    "os.makedirs(DOWNLOAD_PATH, exist_ok=True)\n",
    "\n",
    "emdb_map = D.download_emdb_map(EMDB_ENTRY, DOWNLOAD_PATH)\n",
    "map_1, map_2 = D.download_halfmaps(EMDB_ENTRY, DOWNLOAD_PATH)\n",
    "pdb_model = D.download_pdb_model(\"8tqo\", DOWNLOAD_PATH) # metadata.pdb_id\n",
    "\n",
    "metadata"
   ]
  },
  {
   "cell_type": "markdown",
   "id": "61ce49c4-7b51-4b12-b05a-ef571b366143",
   "metadata": {},
   "source": [
    "### Create Volume from PDB"
   ]
  },
  {
   "cell_type": "code",
   "execution_count": 4,
   "id": "4fa68922-f07b-429f-8d67-545357fad81f",
   "metadata": {},
   "outputs": [
    {
     "name": "stdout",
     "output_type": "stream",
     "text": [
      "[XMIPP] scipion run xmipp_volume_from_pdb -i data/downloaded/pdb8tqo.ent -o /tmp/tmpkiwt_du0 --centerPDB -v 0 --sampling 0.835 --size 256\n",
      "Xmipp command detected\n",
      "Scipion v3.7.1 - Eugenius\n"
     ]
    },
    {
     "data": {
      "application/vnd.jupyter.widget-view+json": {
       "model_id": "4f6f6e1bb26249018790bc44bdabc296",
       "version_major": 2,
       "version_minor": 0
      },
      "text/plain": [
       "Output()"
      ]
     },
     "metadata": {},
     "output_type": "display_data"
    }
   ],
   "source": [
    "volume = scipion.xmipp_volume_from_pdb(\n",
    "    pdb_model,\n",
    "    center_pdb=\"-v 0\",\n",
    "    sampling=metadata.sampling,\n",
    "    size=metadata.size,\n",
    ").typed(astype=scipion_bridge.typed.volume.SpiderFile, copy_data=False)\n",
    "\n",
    "# volume = scipion.xmipp_volume_align(\n",
    "#     embdb_map=emdb_map,\n",
    "#     volume=volume,\n",
    "#     local=True,\n",
    "# )\n",
    "\n",
    "volume"
   ]
  },
  {
   "cell_type": "code",
   "execution_count": 6,
   "id": "91f4d7bd-b6e0-4ba7-9548-e458105f227b",
   "metadata": {},
   "outputs": [],
   "source": [
    "# [XMIPP] scipion run xmipp_volume_align --i1 data/downloaded/emd_41510.map --i2 /tmp/tmpvmzz70hb --local --apply /tmp/tmp09zqxngg.vol"
   ]
  },
  {
   "cell_type": "markdown",
   "id": "5e3614f1-ead8-4149-bb65-f7f47d9cdf9b",
   "metadata": {},
   "source": [
    "### Mask from Volume"
   ]
  },
  {
   "cell_type": "code",
   "execution_count": 5,
   "id": "9f69f91b-8f60-4e7e-853a-4c5355ffb949",
   "metadata": {},
   "outputs": [
    {
     "name": "stdout",
     "output_type": "stream",
     "text": [
      "[XMIPP] scipion run xmipp_transform_threshold -i /tmp/tmpkiwt_du0.vol -o /tmp/tmp4cyy2vl4.vol --select below 0.02 --substitute binarize\n",
      "Input File: /tmp/tmpkiwt_du0.vol\n",
      "Output File: /tmp/tmp4cyy2vl4.vol\n",
      "Xmipp command detected\n",
      "Scipion v3.7.1 - Eugenius\n"
     ]
    },
    {
     "data": {
      "application/vnd.jupyter.widget-view+json": {
       "model_id": "8411cf3e80da4d3e9fd0b8b664f6ac92",
       "version_major": 2,
       "version_minor": 0
      },
      "text/plain": [
       "Output()"
      ]
     },
     "metadata": {},
     "output_type": "display_data"
    }
   ],
   "source": [
    "import logging\n",
    "\n",
    "\n",
    "mask = scipion.xmipp_transform_threshold(\n",
    "    volume, select=\"below 0.02\", substitute=\"binarize\"\n",
    ")\n",
    "\n",
    "mask"
   ]
  },
  {
   "cell_type": "code",
   "execution_count": 6,
   "id": "55b1bfb4-5934-4d77-9cdc-9168b0ee7536",
   "metadata": {},
   "outputs": [
    {
     "name": "stdout",
     "output_type": "stream",
     "text": [
      "Number of non-zero elements: 487083\n"
     ]
    }
   ],
   "source": [
    "print(f\"Number of non-zero elements: {np.count_nonzero(mask)}\")"
   ]
  },
  {
   "cell_type": "code",
   "execution_count": 7,
   "id": "0e87a595-d754-40e6-829e-100a1027bff9",
   "metadata": {},
   "outputs": [
    {
     "data": {
      "application/vnd.jupyter.widget-view+json": {
       "model_id": "14896dfafb0b4481b9bf8d0509496a9b",
       "version_major": 2,
       "version_minor": 0
      },
      "text/plain": [
       "interactive(children=(IntSlider(value=0, description='i', max=255), Output()), _dom_classes=('widget-interact'…"
      ]
     },
     "metadata": {},
     "output_type": "display_data"
    }
   ],
   "source": [
    "from ipywidgets import interact, IntSlider\n",
    "@interact(i=IntSlider(min=0, max=255))\n",
    "def plot_slices(i=125):\n",
    "    fig, (ax_1, ax_2) = plt.subplots(1, 2)\n",
    "    ax_1.imshow(np.array(mask)[i], cmap=\"gray\")\n",
    "    ax_2.imshow(np.array(volume)[i], cmap=\"gray\")"
   ]
  },
  {
   "cell_type": "code",
   "execution_count": 8,
   "id": "bc70ab1b-0f73-4eba-a790-7c3f5840fe72",
   "metadata": {},
   "outputs": [
    {
     "name": "stderr",
     "output_type": "stream",
     "text": [
      "/home/max/Documents/scipion-bridge/src/scipion_bridge/typed/resolve.py:86: UserWarning: Attempted register a resolver for existing transform 'ndarray' -> 'SpiderFile' ('resolve_output_to_proxy' vs 'resolve_output_to_proxy')\n",
      "  warnings.warn(\n"
     ]
    },
    {
     "name": "stdout",
     "output_type": "stream",
     "text": [
      "[XMIPP] scipion run xmipp_transform_threshold -i /tmp/tmpoyxdxtzw.vol -o /tmp/tmp433j3ohf.vol --select below 0.5 --substitute binarize\n",
      "Input File: /tmp/tmpoyxdxtzw.vol\n",
      "Output File: /tmp/tmp433j3ohf.vol\n",
      "Xmipp command detected\n",
      "Scipion v3.7.1 - Eugenius\n"
     ]
    },
    {
     "data": {
      "application/vnd.jupyter.widget-view+json": {
       "model_id": "a4fb0e1cc15e4c6a904682316c944b58",
       "version_major": 2,
       "version_minor": 0
      },
      "text/plain": [
       "Output()"
      ]
     },
     "metadata": {},
     "output_type": "display_data"
    }
   ],
   "source": [
    "shape = (256, 256, 256)\n",
    "z, y, x = np.indices(shape)\n",
    "\n",
    "center = np.array(shape) / 2\n",
    "radius = 100\n",
    "\n",
    "dist_squared = (x - center[2])**2 + (y - center[1])**2 + (z - center[0])**2\n",
    "sphere_mask = dist_squared <= radius**2\n",
    "\n",
    "sphere_mask = scipion.xmipp_transform_threshold(\n",
    "    sphere_mask, select=\"below 0.5\", substitute=\"binarize\"\n",
    ")\n",
    "\n",
    "sphere_mask"
   ]
  },
  {
   "cell_type": "code",
   "execution_count": 10,
   "id": "ed91620c-71ef-4160-8b57-99a72f7fe5d9",
   "metadata": {},
   "outputs": [
    {
     "data": {
      "text/plain": [
       "4187857"
      ]
     },
     "execution_count": 10,
     "metadata": {},
     "output_type": "execute_result"
    }
   ],
   "source": [
    "np.count_nonzero(sphere_mask)"
   ]
  },
  {
   "cell_type": "code",
   "execution_count": 11,
   "id": "fa8327a2-cb3c-4d52-a71d-5be666c520f7",
   "metadata": {},
   "outputs": [
    {
     "ename": "AttributeError",
     "evalue": "module 'scipion_bridge.ffi.scipion' has no attribute 'xmipp_image_convert'",
     "output_type": "error",
     "traceback": [
      "\u001b[0;31m---------------------------------------------------------------------------\u001b[0m",
      "\u001b[0;31mAttributeError\u001b[0m                            Traceback (most recent call last)",
      "Cell \u001b[0;32mIn[11], line 7\u001b[0m\n\u001b[1;32m      3\u001b[0m     scipion\u001b[38;5;241m.\u001b[39mxmipp_image_header(data, sampling\u001b[38;5;241m=\u001b[39msampling)\n\u001b[1;32m      5\u001b[0m     \u001b[38;5;28;01mreturn\u001b[39;00m data\n\u001b[0;32m----> 7\u001b[0m volume \u001b[38;5;241m=\u001b[39m \u001b[43mapply_sampling\u001b[49m\u001b[43m(\u001b[49m\u001b[43mvolume\u001b[49m\u001b[43m,\u001b[49m\u001b[43m \u001b[49m\u001b[43mmetadata\u001b[49m\u001b[38;5;241;43m.\u001b[39;49m\u001b[43msampling\u001b[49m\u001b[43m)\u001b[49m\n\u001b[1;32m      8\u001b[0m mask \u001b[38;5;241m=\u001b[39m apply_sampling(mask, metadata\u001b[38;5;241m.\u001b[39msampling)\n",
      "Cell \u001b[0;32mIn[11], line 2\u001b[0m, in \u001b[0;36mapply_sampling\u001b[0;34m(data, sampling)\u001b[0m\n\u001b[1;32m      1\u001b[0m \u001b[38;5;28;01mdef\u001b[39;00m \u001b[38;5;21mapply_sampling\u001b[39m(data, sampling):\n\u001b[0;32m----> 2\u001b[0m     data \u001b[38;5;241m=\u001b[39m \u001b[43mscipion\u001b[49m\u001b[38;5;241;43m.\u001b[39;49m\u001b[43mxmipp_image_convert\u001b[49m(data)\n\u001b[1;32m      3\u001b[0m     scipion\u001b[38;5;241m.\u001b[39mxmipp_image_header(data, sampling\u001b[38;5;241m=\u001b[39msampling)\n\u001b[1;32m      5\u001b[0m     \u001b[38;5;28;01mreturn\u001b[39;00m data\n",
      "\u001b[0;31mAttributeError\u001b[0m: module 'scipion_bridge.ffi.scipion' has no attribute 'xmipp_image_convert'"
     ]
    }
   ],
   "source": [
    "def apply_sampling(data, sampling):\n",
    "    data = scipion.xmipp_image_convert(data)\n",
    "    scipion.xmipp_image_header(data, sampling=sampling)\n",
    "\n",
    "    return data\n",
    "\n",
    "volume = apply_sampling(volume, metadata.sampling)\n",
    "mask = apply_sampling(mask, metadata.sampling)"
   ]
  },
  {
   "cell_type": "markdown",
   "id": "cafd110b-d6aa-408d-854c-e82ee9e0904f",
   "metadata": {},
   "source": [
    "### Compute BlocRes"
   ]
  },
  {
   "cell_type": "code",
   "execution_count": 7,
   "id": "50dfc6e4-2dd2-4953-a545-b5891aca08ee",
   "metadata": {},
   "outputs": [
    {
     "name": "stdout",
     "output_type": "stream",
     "text": [
      "[BlocRes] /home/max/scipion3/software/em/bsoft/bin/blocres  -Mask /tmp/tmpjvct5xl5.mrc -sampling 0.835 0.835 0.835 -box 18 -cutoff 0.5 -nofill -smooth -pad 1 -step 1 -maxresolution 0.5 -verbose 1 data/downloaded/emd_41510_half_map_1.map data/downloaded/emd_41510_half_map_2.map /tmp/tmpunxxt95c.map\n",
      "# /home/max/scipion3/software/em/bsoft/bin/blocres -Mask /tmp/tmpjvct5xl5.mrc -sampling 0.835 0.835 0.835 -box 18 -cutoff 0.5 -nofill -smooth -pad 1 -step 1 -maxresolution 0.5 -verbose 1 data/downloaded/emd_41510_half_map_1.map data/downloaded/emd_41510_half_map_2.map /tmp/tmpunxxt95c.map \n",
      "# Wed Jul 16 13:15:13 2025\n",
      "\n",
      "\n",
      "Calculating local resolution:\n",
      "Mask:                           /tmp/tmpjvct5xl5.mrc (-1)\n",
      "Kernel size:                    18\n",
      "Step size:                      1\n",
      "Edge size:                      9\t9\t9\n",
      "Padding size:                   36\n",
      "Smoothing/tapering:             2\n",
      "Cutoff(s):                      0.500\n",
      "\n",
      "Boxes to calculate:             646612\n",
      "\n",
      "Boxes calculated:               646612\n",
      "\n"
     ]
    }
   ],
   "source": [
    "blocres_half = blocres(\n",
    "    str(map_1),\n",
    "    str(map_2),\n",
    "    mask=mask,\n",
    "    sampling=f\"{metadata.sampling} {metadata.sampling} {metadata.sampling}\",\n",
    "    box=int(metadata.resolution * 6),\n",
    "    cutoff=0.5,\n",
    "    step=1,\n",
    "    verbose=1,\n",
    ")"
   ]
  },
  {
   "cell_type": "code",
   "execution_count": 8,
   "id": "cf7c582a-5ff0-4de0-b4fc-e4f308277cf6",
   "metadata": {},
   "outputs": [
    {
     "name": "stdout",
     "output_type": "stream",
     "text": [
      "[XMIPP] scipion run xmipp_pdb_label_from_volume -o /tmp/tmp7efz7quw.atom.pdb --pdb data/downloaded/pdb8tqo.ent --vol /tmp/tmpcwzph5sb.map --mask /tmp/tmpcub3ywqh.mrc --sampling 0.835 --origin 0.000000 0.000000 0.000000\n",
      "PDB file:           data/downloaded/pdb8tqo.ent\n",
      "Output:       /tmp/tmp7efz7quw.atom.pdb\n",
      "Sampling rate:        0.835\n",
      "Origin:               0.000000 0.000000 0.000000 \n",
      "Radius:               0.8\n",
      "mean value: = 3.2293\n",
      "absolute mean value: = 3.2293\n",
      "Xmipp command detected\n",
      "Scipion v3.7.1 - Eugenius\n"
     ]
    },
    {
     "data": {
      "text/plain": [
       "'data/blocres_result_41510.pdb'"
      ]
     },
     "execution_count": 8,
     "metadata": {},
     "output_type": "execute_result"
    }
   ],
   "source": [
    "atomic_model = scipion.xmipp_pdb_label_from_volume(\n",
    "    pdb=str(pdb_model),\n",
    "    volume=blocres_half,\n",
    "    mask=mask,\n",
    "    sampling=metadata.sampling,\n",
    "    origin=\"%f %f %f\" % (metadata.org_x, metadata.org_y, metadata.org_z),\n",
    ")\n",
    "\n",
    "shutil.copy(atomic_model.path, f\"data/blocres_result_{EMDB_ENTRY}.pdb\")"
   ]
  },
  {
   "cell_type": "code",
   "execution_count": null,
   "id": "ba5fd182-4657-4d13-a844-6b5280eb8102",
   "metadata": {},
   "outputs": [],
   "source": []
  }
 ],
 "metadata": {
  "kernelspec": {
   "display_name": "Python 3 (ipykernel)",
   "language": "python",
   "name": "python3"
  },
  "language_info": {
   "codemirror_mode": {
    "name": "ipython",
    "version": 3
   },
   "file_extension": ".py",
   "mimetype": "text/x-python",
   "name": "python",
   "nbconvert_exporter": "python",
   "pygments_lexer": "ipython3",
   "version": "3.8.20"
  }
 },
 "nbformat": 4,
 "nbformat_minor": 5
}
