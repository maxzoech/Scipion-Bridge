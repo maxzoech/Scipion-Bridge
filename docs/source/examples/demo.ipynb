{
 "cells": [
  {
   "cell_type": "markdown",
   "id": "c9d7f650",
   "metadata": {},
   "source": [
    "# Scipion Bridge Demo"
   ]
  },
  {
   "cell_type": "code",
   "execution_count": 4,
   "id": "60afa068-1149-4c02-bfd0-40d92c92f7f7",
   "metadata": {},
   "outputs": [],
   "source": [
    "import os\n",
    "from pathlib import Path\n",
    "import numpy as np\n",
    "\n",
    "import scipion_bridge\n",
    "import scipion_bridge.ffi.scipion as scipion\n",
    "from scipion_bridge.core.typed import common, proxy\n",
    "# from scipion_bridge.ffi.blocres import blocres\n",
    "# from scipion_bridge.proxy import OutputInfo\n",
    "\n",
    "import shutil\n",
    "\n",
    "from utils import download as D\n",
    "scipion_bridge.core.environment.configure_default_env()\n",
    "\n",
    "import matplotlib.pyplot as plt"
   ]
  },
  {
   "cell_type": "markdown",
   "id": "c922cc36-67a7-4da3-a6a1-15b18af47f2b",
   "metadata": {},
   "source": [
    "### Download Data"
   ]
  },
  {
   "cell_type": "code",
   "execution_count": 5,
   "id": "5057b89e-44f4-462b-a5e3-b2aac5d65f52",
   "metadata": {},
   "outputs": [],
   "source": [
    "DOWNLOAD_PATH = Path(\"data/downloaded\")\n",
    "EMDB_ENTRY = 41510"
   ]
  },
  {
   "cell_type": "code",
   "execution_count": 6,
   "id": "0ce8ff5a-10c8-4d51-a0eb-5fad145dd945",
   "metadata": {},
   "outputs": [
    {
     "data": {
      "text/plain": [
       "EMDBMetadata(pdb_id='7l70', resolution=3.1, sampling=0.835, size=256, org_x=0, org_y=0, org_z=0)"
      ]
     },
     "execution_count": 6,
     "metadata": {},
     "output_type": "execute_result"
    }
   ],
   "source": [
    "metadata = D.download_emdb_metadata(entry_id=EMDB_ENTRY)\n",
    "\n",
    "os.makedirs(DOWNLOAD_PATH, exist_ok=True)\n",
    "\n",
    "emdb_map = D.download_emdb_map(EMDB_ENTRY, DOWNLOAD_PATH)\n",
    "map_1, map_2 = D.download_halfmaps(EMDB_ENTRY, DOWNLOAD_PATH)\n",
    "pdb_model = D.download_pdb_model(\"8tqo\", DOWNLOAD_PATH) # metadata.pdb_id\n",
    "\n",
    "metadata"
   ]
  },
  {
   "cell_type": "markdown",
   "id": "61ce49c4-7b51-4b12-b05a-ef571b366143",
   "metadata": {},
   "source": [
    "### Create Volume from PDB"
   ]
  },
  {
   "cell_type": "code",
   "execution_count": 8,
   "id": "4fa68922-f07b-429f-8d67-545357fad81f",
   "metadata": {},
   "outputs": [
    {
     "name": "stdout",
     "output_type": "stream",
     "text": [
      "[XMIPP] scipion run xmipp_volume_from_pdb -i data/downloaded/pdb8tqo.ent -o /tmp/tmp2puw8rqj --centerPDB -v 0 --sampling 0.835 --size 256\n",
      "Xmipp command detected\n",
      "Scipion v3.7.1 - Eugenius\n"
     ]
    },
    {
     "data": {
      "application/vnd.jupyter.widget-view+json": {
       "model_id": "9154dd23925c4fee8df52ff4af4c746e",
       "version_major": 2,
       "version_minor": 0
      },
      "text/plain": [
       "Output()"
      ]
     },
     "metadata": {},
     "output_type": "display_data"
    }
   ],
   "source": [
    "volume = scipion.xmipp_volume_from_pdb(\n",
    "    pdb_model,\n",
    "    center_pdb=\"-v 0\",\n",
    "    sampling=metadata.sampling,\n",
    "    size=metadata.size,\n",
    ").typed(astype=scipion_bridge.core.typed.volume.SpiderFile, copy_data=False)\n",
    "\n",
    "# volume = scipion.xmipp_volume_align(\n",
    "#     embdb_map=emdb_map,\n",
    "#     volume=volume,\n",
    "#     local=True,\n",
    "# )\n",
    "\n",
    "volume"
   ]
  },
  {
   "cell_type": "code",
   "execution_count": 9,
   "id": "91f4d7bd-b6e0-4ba7-9548-e458105f227b",
   "metadata": {},
   "outputs": [],
   "source": [
    "# [XMIPP] scipion run xmipp_volume_align --i1 data/downloaded/emd_41510.map --i2 /tmp/tmpvmzz70hb --local --apply /tmp/tmp09zqxngg.vol"
   ]
  },
  {
   "cell_type": "markdown",
   "id": "5e3614f1-ead8-4149-bb65-f7f47d9cdf9b",
   "metadata": {},
   "source": [
    "### Mask from Volume"
   ]
  },
  {
   "cell_type": "code",
   "execution_count": 10,
   "id": "9f69f91b-8f60-4e7e-853a-4c5355ffb949",
   "metadata": {},
   "outputs": [
    {
     "name": "stdout",
     "output_type": "stream",
     "text": [
      "[XMIPP] scipion run xmipp_transform_threshold -i /tmp/tmp2puw8rqj.vol -o /tmp/tmpxarl4c9g.vol --select below 0.02 --substitute binarize\n",
      "Input File: /tmp/tmp2puw8rqj.vol\n",
      "Output File: /tmp/tmpxarl4c9g.vol\n",
      "Xmipp command detected\n",
      "Scipion v3.7.1 - Eugenius\n"
     ]
    },
    {
     "data": {
      "application/vnd.jupyter.widget-view+json": {
       "model_id": "4cd02ec6996c460a9d3bcd5fd9b6b20f",
       "version_major": 2,
       "version_minor": 0
      },
      "text/plain": [
       "Output()"
      ]
     },
     "metadata": {},
     "output_type": "display_data"
    }
   ],
   "source": [
    "import logging\n",
    "\n",
    "\n",
    "mask = scipion.xmipp_transform_threshold(\n",
    "    volume, select=\"below 0.02\", substitute=\"binarize\"\n",
    ")\n",
    "\n",
    "mask"
   ]
  },
  {
   "cell_type": "code",
   "execution_count": 11,
   "id": "55b1bfb4-5934-4d77-9cdc-9168b0ee7536",
   "metadata": {},
   "outputs": [
    {
     "name": "stdout",
     "output_type": "stream",
     "text": [
      "Number of non-zero elements: 487083\n"
     ]
    }
   ],
   "source": [
    "print(f\"Number of non-zero elements: {np.count_nonzero(mask)}\")"
   ]
  },
  {
   "cell_type": "code",
   "execution_count": 12,
   "id": "0e87a595-d754-40e6-829e-100a1027bff9",
   "metadata": {},
   "outputs": [
    {
     "data": {
      "application/vnd.jupyter.widget-view+json": {
       "model_id": "99cd9819031d4ec19ca74c0e4bdd8e01",
       "version_major": 2,
       "version_minor": 0
      },
      "text/plain": [
       "interactive(children=(IntSlider(value=0, description='i', max=255), Output()), _dom_classes=('widget-interact'…"
      ]
     },
     "metadata": {},
     "output_type": "display_data"
    }
   ],
   "source": [
    "from ipywidgets import interact, IntSlider\n",
    "@interact(i=IntSlider(min=0, max=255))\n",
    "def plot_slices(i=125):\n",
    "    fig, (ax_1, ax_2) = plt.subplots(1, 2)\n",
    "    ax_1.imshow(np.array(mask)[i], cmap=\"gray\")\n",
    "    ax_2.imshow(np.array(volume)[i], cmap=\"gray\")"
   ]
  },
  {
   "cell_type": "code",
   "execution_count": 13,
   "id": "bc70ab1b-0f73-4eba-a790-7c3f5840fe72",
   "metadata": {},
   "outputs": [
    {
     "name": "stderr",
     "output_type": "stream",
     "text": [
      "/home/max/Documents/scipion-bridge/src/scipion_bridge/core/typed/resolve.py:241: UserWarning: Attempted register a resolver for existing transform 'ndarray' -> 'SpiderFile' ('resolve_output_to_proxy' vs 'resolve_output_to_proxy')\n",
      "  warnings.warn(\n"
     ]
    },
    {
     "name": "stdout",
     "output_type": "stream",
     "text": [
      "[XMIPP] scipion run xmipp_transform_threshold -i /tmp/tmpy2jhuv7s.vol -o /tmp/tmpcdj12_jj.vol --select below 0.5 --substitute binarize\n",
      "Input File: /tmp/tmpy2jhuv7s.vol\n",
      "Output File: /tmp/tmpcdj12_jj.vol\n",
      "Xmipp command detected\n",
      "Scipion v3.7.1 - Eugenius\n"
     ]
    },
    {
     "data": {
      "application/vnd.jupyter.widget-view+json": {
       "model_id": "267e5ee4d52b47488361969ce4d14628",
       "version_major": 2,
       "version_minor": 0
      },
      "text/plain": [
       "Output()"
      ]
     },
     "metadata": {},
     "output_type": "display_data"
    }
   ],
   "source": [
    "shape = (256, 256, 256)\n",
    "z, y, x = np.indices(shape)\n",
    "\n",
    "center = np.array(shape) / 2\n",
    "radius = 100\n",
    "\n",
    "dist_squared = (x - center[2])**2 + (y - center[1])**2 + (z - center[0])**2\n",
    "sphere_mask = dist_squared <= radius**2\n",
    "\n",
    "sphere_mask = scipion.xmipp_transform_threshold(\n",
    "    sphere_mask, select=\"below 0.5\", substitute=\"binarize\"\n",
    ")\n",
    "\n",
    "sphere_mask"
   ]
  },
  {
   "cell_type": "code",
   "execution_count": 14,
   "id": "ed91620c-71ef-4160-8b57-99a72f7fe5d9",
   "metadata": {},
   "outputs": [
    {
     "data": {
      "text/plain": [
       "4187857"
      ]
     },
     "execution_count": 14,
     "metadata": {},
     "output_type": "execute_result"
    }
   ],
   "source": [
    "np.count_nonzero(sphere_mask)"
   ]
  }
 ],
 "metadata": {
  "kernelspec": {
   "display_name": "Python 3 (ipykernel)",
   "language": "python",
   "name": "python3"
  },
  "language_info": {
   "codemirror_mode": {
    "name": "ipython",
    "version": 3
   },
   "file_extension": ".py",
   "mimetype": "text/x-python",
   "name": "python",
   "nbconvert_exporter": "python",
   "pygments_lexer": "ipython3",
   "version": "3.8.20"
  }
 },
 "nbformat": 4,
 "nbformat_minor": 5
}
